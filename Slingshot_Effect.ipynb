{
 "cells": [
  {
   "cell_type": "markdown",
   "id": "7fe7adc2-1227-49ab-9e0c-5d2da46060c6",
   "metadata": {},
   "source": [
    "# Lab #9 Report"
   ]
  },
  {
   "cell_type": "markdown",
   "id": "5526c241-102a-4b4b-9d83-348e47e474c8",
   "metadata": {},
   "source": [
    "**Group Members**: Tyrese, Liam\n",
    "\n",
    "**Class**: Physics\n",
    "\n",
    "**Originally Submitted**: November 18, 2022\n",
    "\n",
    "## The Problem We're Trying to Solve\n",
    "\n",
    "&emsp;&emsp;For this lab, we were instructed to develop a program in VPython with the purpose of simulating the collision of two objects via a spring and observe the results after they have made contact with each other. In addition to this, we were asked to calculate and plot the velocities, momenta, and energies associated with our objects. What’s more, we were tasked with repeating this simulation using an object with much higher mass in order to observe the resulting “slingshot effect.”\n",
    "\n",
    "## Physics Relevant to Our Problem\n",
    "\n",
    "&emsp;&emsp;One of the physical principles fundamental to our issue at hand is the spring force. When the first car interacts with the second car’s spring, they work to compress the spring. Subsequently, an equal and opposite restoring force following Newton’s third law (spring force: $F =-kx$) is exerted here as the spring strives to retreat back to equilibrium, pushing against the colliding objects in the process. \n",
    "\n",
    "&emsp;&emsp;Additionally, when the spring is contracting, the Elastic Potential Energy of the spring subsequently increases by direct proportion due to the increase in displacement. This is given by the equation $PE=\\frac {1}{2} kx^2$. Also, when it retreats back to equilibrium, the displacement decreases, and then the Potential Energy decreases as well as a result.\n",
    "\n",
    "&emsp;&emsp;Furthermore, the Conservation of Energy, and Momentum are both applied here due to the fact that this system is exhibiting an elastic collision. Therefore, the objects in question do not stick together, and Energy, and Momentum are not lost, but converted during the interaction. \n",
    "&emsp;&emsp;Moreover, the Momentum Principle, and Energy Principles are also applied here. Kinetic Energy is given by $KE=\\frac {1}{2} mv^2$. And this increases if Momentum happens to increase as well: $p=mv$. This can also be rewritten as velocity, which is the speed & direction at which the objects are traveling: $v=\\frac {p} {m}$. And Momentum is notably dependent on changes in velocity. \n",
    "\n",
    "&emsp;&emsp;Also we will be looking at the Mechanical Energy of the entire system, which is given by the equation: $ME=KE+PE$. Because the Potential, and Kinetic Energies are converted in an elastic collision, Energy won’t be lost to heat, and the Mechanical Energy should remain constant since the transfer preserves the Energy in an elastic collision like this.\n",
    "\n",
    "## How the Code Solves the Problem\n",
    "\n",
    "The simulation begins by creating three visible elements: a ground plane (for reference), two spheres representing the colliding objects, and a helix representing the spring. The spring compresses during collision and expands afterward, causing the objects to bounce apart.\n",
    "\n",
    "Before the loop runs, the program sets the spring’s natural length, calculates the initial momentum of each object using $p=mv$, and determines the system’s total momentum and kinetic energy using $KE=\\frac {p^2}{2m}$. Distance and spring force variables are also initialized.\n",
    "\n",
    "The loop runs until one of the objects moves beyond a certain horizontal distance. Each iteration resets the spring force and potential energy to zero, then recalculates them only if the distance between the objects is less than the spring’s natural length. This condition detects contact between the spring and objects, triggering a restoring force consistent with Hooke’s law, $F=−kx$, and a potential energy contribution, $PE=\\frac {1}{2}kx^2$. The spring’s axis is updated to reflect its compression or extension, preventing unrealistic overlap.\n",
    "\n",
    "Next, momentum is updated using the momentum principle $Δp=FΔt$, applied with opposite signs to enforce Newton’s third law. Velocities are then recalculated as $v=\\frac{p}{m}$, followed by position updates using $x_f=x_i+vΔt$. Because the spring is attached to one object, its position is anchored to follow it.\n",
    "\n",
    "Finally, the kinetic energy of each object is recalculated using the updated momentum values, and the system’s total mechanical energy is determined by summing kinetic and potential energy. The loop advances the simulation in discrete time steps until the stopping condition is met."
   ]
  },
  {
   "cell_type": "code",
   "execution_count": 12,
   "id": "fe27adc8-9fb1-451e-950b-89d1e9bbc0c0",
   "metadata": {},
   "outputs": [],
   "source": [
    "from vpython import *\n",
    "\n",
    "# Object to store properties for non-visual runs\n",
    "class Dummy:\n",
    "    def __init__(self, pos=None, mass=0.5, v=None, color=None, axis=None):\n",
    "        self.pos = pos\n",
    "        self.mass = mass\n",
    "        self.v = v\n",
    "        self.axis = axis\n",
    "\n",
    "def create_car(position, velocity, color, mass=0.5):\n",
    "    car = sphere(pos = position,\n",
    "                 mass = mass,\n",
    "                 v = velocity,\n",
    "                 radius = 0.05,\n",
    "                 color = color,\n",
    "                 make_trail = True,\n",
    "                 trail_type = 'points')\n",
    "\n",
    "    return car\n",
    "\n",
    "def create_dummy_from_obj(obj):\n",
    "    position = getattr(obj, \"pos\")\n",
    "    mass = getattr(obj, \"mass\")\n",
    "    velocity = getattr(obj, \"v\")\n",
    "    color = getattr(obj, \"color\")\n",
    "\n",
    "    # Overwrites vpython.sphere object\n",
    "    obj = Dummy(\n",
    "        pos = position,\n",
    "        mass = mass,\n",
    "        v = velocity,\n",
    "        color = color\n",
    "    )\n",
    "\n",
    "    return obj\n",
    "            \n",
    "\n",
    "def run_simulation(show_simulation=True, velocity_graph=False, momentum_graph=False, energy_graph=False, print_statements=False, car_1=None, car_2=None):\n",
    "    \n",
    "    l_0 = 0.5\n",
    "    \n",
    "    if show_simulation:\n",
    "        ground = box(pos = vec(0, -.05, 0),\n",
    "                     size = vec(7,0.02,0.4),\n",
    "                     color = color.green)\n",
    "        \n",
    "        if car_1 is None:\n",
    "            car_1 = create_car(position = vec(-2.5, 0, 0),\n",
    "                               velocity = vec(1, 0, 0),\n",
    "                               color = color.red)\n",
    "\n",
    "        if car_2 is None:\n",
    "            car_2 = create_car(position = vec(3, 0, 0),\n",
    "                               velocity = vec(-0.5, 0, 0),\n",
    "                               color = color.blue)\n",
    "        \n",
    "        spring = helix(pos = car_2.pos,\n",
    "                       axis = l_0 * vec(-1, 0, 0),\n",
    "                       radius = 0.04,\n",
    "                       color = color.orange)\n",
    "    else:\n",
    "        if car_1 is None:\n",
    "            car_1 = Dummy(\n",
    "                pos = vec(-2.5, 0, 0),\n",
    "                v = vec(1, 0, 0),\n",
    "                color = color.red\n",
    "            )\n",
    "        else:\n",
    "            car_1 = create_dummy_from_obj(car_1)\n",
    "\n",
    "        if car_2 is None:\n",
    "            car_2 = Dummy(\n",
    "                pos = vec(3, 0, 0),\n",
    "                v = vec(-0.5, 0, 0),\n",
    "                color = color.blue\n",
    "            )\n",
    "        else:\n",
    "            car_2 = create_dummy_from_obj(car_2)\n",
    "            \n",
    "        spring = Dummy(\n",
    "            pos = car_2.pos,\n",
    "            axis = l_0 * vec(-1, 0, 0)\n",
    "        )\n",
    "\n",
    "    if velocity_graph:\n",
    "        vx = graph(title='Velocity', xtitle='t', ytitle='v_x (t)')\n",
    "        v_b_x = gcurve(graph=vx, color=color.red, width = 1)\n",
    "        v_s_x = gcurve(graph=vx, color=color.blue, width = 1)\n",
    "\n",
    "    if momentum_graph:\n",
    "        px = graph(title='Momentum', xtitle='t', ytitle='v_x (t)')\n",
    "        p_b_x = gcurve(graph=px, color=color.red, width = 1)\n",
    "        p_s_x = gcurve(graph=px, color=color.blue, width = 1)\n",
    "        p_total_x = gcurve(graph=px, color=color.purple, width = 1 )\n",
    "\n",
    "    if energy_graph:\n",
    "        en_g = graph(title='Energy', xtitle='t', ytitle=' E(t) ')\n",
    "        K_1_g = gcurve(graph=en_g,color=color.red, width = 1 )\n",
    "        K_2_g = gcurve(graph=en_g, color=color.blue, width = 1 )\n",
    "        P_g = gcurve(graph=en_g, color=color.green, width = 1 )\n",
    "        E_tot_g = gcurve(graph=en_g, color=color.purple, width = 1)\n",
    "    \n",
    "    car_1.p = car_1.mass * car_1.v\n",
    "    car_2.p = car_2.mass * car_2.v\n",
    "    \n",
    "    k = 15\n",
    "    t = 0\n",
    "    dt = 0.0005\n",
    "    myrate = 2000\n",
    "    \n",
    "    p_tot = car_2.p + car_1.p\n",
    "    E_tot = car_2.p.mag2 / (2 * car_2.mass) + car_1.p.mag2 / (2 * car_1.mass)\n",
    "    \n",
    "    dist = (car_2.pos.x - car_1.pos.x)\n",
    "\n",
    "    if print_statements:\n",
    "        print(\" P_before: \", p_tot, \" E_before: \", E_tot)\n",
    "    \n",
    "    while abs(car_2.pos.x) < 3.2:      # changed from 3.2  \n",
    "        rate(myrate)\n",
    "        \n",
    "        F_s = vec(0,0,0)\n",
    "        PE = 0\n",
    "        \n",
    "        spring.axis = l_0 * vec(-1, 0, 0)    \n",
    "        dist = abs(car_2.pos.x - car_1.pos.x)\n",
    "        \n",
    "        if dist < l_0:\n",
    "            F_s = -k * (vec(l_0, 0, 0) - vec(dist, 0, 0)) \n",
    "            PE = 1/2 * k * (l_0 - dist)**2\n",
    "            spring.axis = dist * vec(-1, 0, 0)\n",
    "            \n",
    "        car_1.p += F_s * dt\n",
    "        car_2.p -= F_s * dt\n",
    "        p_tot = car_2.p + car_1.p\n",
    "    \n",
    "        car_1.v = car_1.p / car_1.mass\n",
    "        car_2.v = car_2.p / car_2.mass\n",
    "        \n",
    "        car_1.pos += car_1.v * dt\n",
    "        car_2.pos += car_2.v * dt\n",
    "        spring.pos = car_2.pos\n",
    "        \n",
    "        KE1 = car_1.p.mag2 / (2 * car_1.mass)\n",
    "        KE2 = car_2.p.mag2 / (2 * car_2.mass)\n",
    "        E_tot = KE1 + KE2 + PE\n",
    "\n",
    "        if velocity_graph:\n",
    "            v_b_x.plot(pos = (t, car_1.v.x))\n",
    "            v_s_x.plot(pos = (t, car_2.v.x))\n",
    "\n",
    "        if momentum_graph:\n",
    "            p_b_x.plot(pos = (t, car_1.p.x))\n",
    "            p_s_x.plot(pos = (t, car_2.p.x))\n",
    "            p_total_x.plot(pos = (t, p_tot.x))\n",
    "\n",
    "        if energy_graph:\n",
    "            K_1_g.plot(pos = (t, KE1) )\n",
    "            K_2_g.plot(pos = (t, KE2) )\n",
    "            P_g.plot(pos = (t, PE) )\n",
    "            E_tot_g.plot(pos = (t, E_tot) )\n",
    "        \n",
    "        t += dt\n",
    "\n",
    "    if print_statements:\n",
    "        print(\" P_after: \", p_tot, \" E_after: \", E_tot)"
   ]
  },
  {
   "cell_type": "markdown",
   "id": "ec4c6633-41b0-41d6-aa23-db2c7a6d1edb",
   "metadata": {},
   "source": [
    "## Results and Discussion\n",
    "### Simulation #1\n",
    "#### Simulation Model"
   ]
  },
  {
   "cell_type": "code",
   "execution_count": 13,
   "id": "540cfe73-4757-4847-8459-bee200dc98dd",
   "metadata": {},
   "outputs": [
    {
     "data": {
      "text/html": [
       "<div id=\"glowscript\" class=\"glowscript\"></div>"
      ],
      "text/plain": [
       "<IPython.core.display.HTML object>"
      ]
     },
     "metadata": {},
     "output_type": "display_data"
    },
    {
     "data": {
      "application/javascript": [
       "if (typeof Jupyter !== \"undefined\") { window.__context = { glowscript_container: $(\"#glowscript\").removeAttr(\"id\")};}else{ element.textContent = ' ';}"
      ],
      "text/plain": [
       "<IPython.core.display.Javascript object>"
      ]
     },
     "metadata": {},
     "output_type": "display_data"
    }
   ],
   "source": [
    "simulation_1 = canvas()\n",
    "\n",
    "run_simulation()"
   ]
  },
  {
   "cell_type": "markdown",
   "id": "28088c68-99bb-4a74-9456-b8fec9352817",
   "metadata": {},
   "source": [
    "In this simulation run, we’re propelling two objects with equivalent mass and different springs towards each other – with the blue sphere in particular possessing a spring that will interact with the red sphere upon collision. To obtain the final results displayed above, the spherical objects initially approached one another in a straight, one-dimensional path as shown by the trail left behind both. However, once the spring attached to the head of the blue sphere made contact with the red sphere, it began compressing. Following this, both spheres retreated in the direction of their original position. This makes sense according to Newton’s third law which states that for every action there is an equal and opposite reaction. In this case, the force exerted on the spring from the red sphere produces an equal and opposite reaction which causes both spheres to reverse direction."
   ]
  },
  {
   "cell_type": "markdown",
   "id": "73a71ade-62e7-4d6e-802f-158dd804cdcf",
   "metadata": {},
   "source": [
    "#### Velocity Graph"
   ]
  },
  {
   "cell_type": "code",
   "execution_count": 14,
   "id": "8fbe513c-7c5b-4ba9-aa11-720ec843612b",
   "metadata": {},
   "outputs": [
    {
     "data": {
      "text/html": [
       "<div id=\"glowscript\" class=\"glowscript\"></div>"
      ],
      "text/plain": [
       "<IPython.core.display.HTML object>"
      ]
     },
     "metadata": {},
     "output_type": "display_data"
    },
    {
     "data": {
      "application/javascript": [
       "if (typeof Jupyter !== \"undefined\") { window.__context = { glowscript_container: $(\"#glowscript\").removeAttr(\"id\")};}else{ element.textContent = ' ';}"
      ],
      "text/plain": [
       "<IPython.core.display.Javascript object>"
      ]
     },
     "metadata": {},
     "output_type": "display_data"
    }
   ],
   "source": [
    "velocity_graph = canvas()\n",
    "\n",
    "run_simulation(show_simulation=False, velocity_graph=True)"
   ]
  },
  {
   "cell_type": "markdown",
   "id": "84292c88-04c6-4b75-aba3-ac8f4900b739",
   "metadata": {},
   "source": [
    "\n",
    "&emsp;&emsp;As we can see above, we have two lines: a blue line associated with our blue sphere and a red line associated with our red sphere. Focusing on the red line, we can see that it remains constant at 1 m/s up until around the 3.5 second mark where it decreases to a velocity of -0.5 m/s. This tells us that initially the red sphere was moving in the rightward (positive x-direction) given that the velocity is positive at first. Then, the velocity suddenly decreases to become negative – implying that it is moving in the leftward (negative x-direction). This all lines up with what we see in the simulation run, where we observe the red sphere moving towards the right until it makes contact with the spring, slows down, and reverses direction as a result of the restoring force exerted by the spring.\n",
    "\n",
    "&emsp;&emsp;Moving on to the blue line, we see that it was initially moving at a velocity of -0.5 m/s. This suggests that the blue sphere was moving in the leftward direction due to the velocity being negative. However, at about the 3.5 second mark, the blue sphere suddenly experiences an increase in velocity and begins moving with a speed of 1 m/s. Since the velocity is now positive, this means that the blue sphere has changed course and is now moving in the rightward direction. This behavior correlates with what we observed in the simulation run.\n",
    "\n",
    "&emsp;&emsp;An interesting thing to note upon analyzing this graph is that the velocities of the red and blue spheres are switched with one another after about 3.5 seconds when they are shown making contact with one another via the spring between them. Considering that beforehand the spring hadn’t experienced any displacement x up until this point, the spring force would remain constant at 〈0, 0, 0〉 due to $F=-kx$ always resulting in zero in all directions due to the displacement from equilibrium being zero ($x=0$). Because of this, the momentum would remain constant (at 〈0.5, 0, 0〉 $kg \\times m/s$ in the case of the red sphere; 〈-0.25, 0, 0〉 $kg \\times m/s$ in the case of the blue sphere) due to the momentum being initialized before the while loop, meaning that whenever we try to update the momentum ($Δp=FΔt$) we would be adding 〈0, 0, 0〉 $kg \\times m/s$ to it repeatedly as a consequence of the spring force being equal to  〈0, 0, 0〉 N. In turn, this leaves us with the exact same momentum. However, when the red sphere interacts with the spring, it compresses the spring, thereby causing displacement to no longer be 0 ($x≠0$). As a result, the spring force likewise is not equivalent to 〈0, 0, 0〉 N since the spring constant, k, also exists. Thus, when the program goes on to update momentum via the equation, $Δp=FΔt$, the resulting momentum (added in the case of the red sphere; subtracted in the case of the blue sphere) would change the overall momentum of the colliding objects. In turn, this change in momentum will also lead to a change in velocity via the equation $v=\\frac{p}{m}$. And since the mass between the two objects is the same, thus when they collide, an equal amount of momentum is exchanged between the two, resulting in the velocity for both changing at the same rate. This is also due to the system exhibiting an elastic collision, which prompts momentum to be conserved. Hence, for this case, when they collide, the velocities are seemingly swapped."
   ]
  },
  {
   "cell_type": "markdown",
   "id": "7c031a65-582b-46b9-8b9d-8b1dcf329b90",
   "metadata": {},
   "source": [
    "#### Momentum Graph"
   ]
  },
  {
   "cell_type": "code",
   "execution_count": 15,
   "id": "a39035a9-3adc-4fc5-acae-02b60238d409",
   "metadata": {},
   "outputs": [
    {
     "data": {
      "text/html": [
       "<div id=\"glowscript\" class=\"glowscript\"></div>"
      ],
      "text/plain": [
       "<IPython.core.display.HTML object>"
      ]
     },
     "metadata": {},
     "output_type": "display_data"
    },
    {
     "data": {
      "application/javascript": [
       "if (typeof Jupyter !== \"undefined\") { window.__context = { glowscript_container: $(\"#glowscript\").removeAttr(\"id\")};}else{ element.textContent = ' ';}"
      ],
      "text/plain": [
       "<IPython.core.display.Javascript object>"
      ]
     },
     "metadata": {},
     "output_type": "display_data"
    }
   ],
   "source": [
    "momentum_graph = canvas()\n",
    "\n",
    "run_simulation(show_simulation=False, momentum_graph=True)"
   ]
  },
  {
   "cell_type": "markdown",
   "id": "bc3c5ac7-5b85-4079-982c-8f8b492a7009",
   "metadata": {},
   "source": [
    "\n",
    "&emsp;&emsp;For the momentum graph depicted above, the red line is associated with the red sphere in our simulation whereas the blue line is associated with the blue sphere in our simulation. Based on the momentum principle, $p=mv$, we can see that momentum is dependent on the values of mass, $$m, and velocity, $v$. Since mass remains constant throughout the simulation, the behavior of momentum should reflect that of the velocity graph. And indeed, the pattern of increasing, decreasing, and remaining constant is the same when comparing the results of the momentum and velocity graphs.\n",
    "\n",
    "&emsp;&emsp;Other relevant details related to these two lines in particular are the values at which they remain constant at during select intervals of the simulation. These lines of interest are when $p_x=0.5 kg \\times m/s$ and $p_x=-0.25 kg \\times m/s$. The fact that the red line is initially constant at $0.5 kg \\times m/s$ makes sense since we first initialize the momentum of both objects to be collided before we enter the while loop. Calculating the initial momentum of the red sphere based on its attributes gives us the following result: $p=mv$  $p=(0.5 kg)(〈1, 0, 0〉 m/s) = 〈0.5, 0, 0〉 kg \\times m/s$. Carrying out the same process for the blue sphere, we find that: $p=mv \\Rightarrow p=(0.5 kg)(〈-0.5, 0, 0〉 m/s) = 〈-0.25, 0, 0〉 kg \\times m/s$.\n",
    "\n",
    "&emsp;&emsp;These values don’t change until the spring force (which is constantly reset to be 〈0, 0, 0〉 N at the start of every loop) obtains a value in one of its components that is not 0. Given the formula for spring force, $F=-kx$, and considering that we already have a spring constant k0, this only occurs when the displacement $x≠0$. However, the only instance when the displacement is a non-zero number is when it is compressed – an action which takes place only when the spring makes contact with the red sphere. Seeing as how this action happens at around the 3.5 second mark, it makes sense that the momentum of both of our objects remains constant up until this point.\n",
    "\n",
    "&emsp;&emsp;At the 3.5 second mark, we see that the red line decreases below the x-axis in accordance with the slowing down and reversal of direction taking place with the red sphere shown in the simulation. In contrast, we observe that the blue line increases above the x-axis in accordance to the speeding up of the blue sphere.\n",
    "    \n",
    "&emsp;&emsp;After the 3.5 second mark, the red sphere follows the constant pattern initially visible in the blue sphere and similarly the blue sphere inherits the behavior initially associated with the red sphere. This behavior makes logical sense according to the Conservation of Momentum principle exhibited by the elastic collision on display. This principle is further reinforced when we take a look at the purple line which calculates the total momentum of both objects. The fact that it is constant at 0.25 in the x-direction suggests that the momentum from both the red and blue spheres will always add up to $〈0.25, 0, 0〉 kg \\times m/s$. Seeing as how the momentum of our colliding objects, $-0.25 kg \\times m/s$ and $0.5 kg \\times m/s$ add up to $0.25 kg \\times m/s$ in the x-direction, this principle appears to hold water. Not to mention, the converse relationship between the two momentums as shown at the 3.5 second mark further suggests that the total momentum should be constant at this point as well."
   ]
  },
  {
   "cell_type": "markdown",
   "id": "07dd5b4d-246d-4199-8cb2-4f0137909a7c",
   "metadata": {},
   "source": [
    "#### Energy Graph"
   ]
  },
  {
   "cell_type": "code",
   "execution_count": 16,
   "id": "bff1c329-8ec6-47f7-8687-999216e8e148",
   "metadata": {},
   "outputs": [
    {
     "data": {
      "text/html": [
       "<div id=\"glowscript\" class=\"glowscript\"></div>"
      ],
      "text/plain": [
       "<IPython.core.display.HTML object>"
      ]
     },
     "metadata": {},
     "output_type": "display_data"
    },
    {
     "data": {
      "application/javascript": [
       "if (typeof Jupyter !== \"undefined\") { window.__context = { glowscript_container: $(\"#glowscript\").removeAttr(\"id\")};}else{ element.textContent = ' ';}"
      ],
      "text/plain": [
       "<IPython.core.display.Javascript object>"
      ]
     },
     "metadata": {},
     "output_type": "display_data"
    }
   ],
   "source": [
    "energy_graph = canvas()\n",
    "\n",
    "run_simulation(show_simulation=False, energy_graph=True)"
   ]
  },
  {
   "cell_type": "markdown",
   "id": "cda66ac2-c00f-4e5c-83a6-c17d29312bbd",
   "metadata": {},
   "source": [
    "&emsp;&emsp;For the graph displayed above, we have four lines to take into account: (1) a red line associated with the kinetic energy of the red sphere, (2) a blue line associated with the kinetic energy of the blue sphere, (3) a green line associated with the potential energy of the spring, and (4) a purple line associated with the total energy. It should be expected that all these lines be constant throughout the simulation except around the 3.5 second mark. This is because the velocity of our colliding objects is uniform except at around this particular instance. This is made evident with how the objects decelerate, and accelerate when the spring force is applied on both objects.\n",
    "\n",
    "&emsp;&emsp;And with a constant velocity, we should expect that the kinetic energy would also be constant given the equation for it calculation: $KE=\\frac{1}{2} mv^2$. In turn, this would mean that the potential energy of the spring would also remain constant since the Conservation of Energy principle states that energy cannot be created nor destroyed – only changed form. Thus, when the kinetic energy is constant, there is no conversion of energy taking place which implies that potential energy is also constant. And since no displacement is occurring within the spring at this instance, the spring force formula, $F=-kx$, will consistently exhibit 〈0, 0, 0〉 N unless the spring is compressed and displaced. In turn, this spring force value will result in no change in the momentum via the equation $Δp=FΔt$ for the time being, which itself leads to no change in velocity via the formula $v=\\frac{p}{m}$. This analysis correlates with the behavior of the total energy line shown in purple which travels in a straight line throughout the simulation except when the spring interacts with the red sphere at $t≈3.5$ s where it wavers slightly. However, although this waver is present, it signifies that the Total Energy still continues to remain the same due to it following roughly a straight line. The waver in the Total Energy at this point can simply be attributed to the limitations of our simulation with regard to our time step, dt. Regardless, these calculations roughly point to the Total Energy being constant, which is expected. This behavior makes sense since everywhere else on the graph, kinetic energy remains constant at 0.25 and 0.0625 joules (Note: Potential energy is negligible during this interval since the lack of displacement causes the equation, $PE=\\frac{1}{2} kx^2$, to be equal to 0 J).\n",
    "\n",
    "&emsp;&emsp;Now, let’s put our focus on when $t≈3.5$ s, where the spring experiences displacement and causes $PE≠ 0$ J . This is responsible for the sudden, albeit brief change in the behavior of the green line. Initially, the potential energy increases sharply before decreasing back to 0 J just as quickly. This makes logical sense given that for a time, the displacement of the spring increases as the red sphere compresses it. As a result, this increased displacement will briefly raise the potential energy of the spring given the formula: $PE=\\frac{1}{2} kx^2$. Likewise, as the spring regains its initial length due to the restoring force acting to return the force delivered to it from the red sphere, the displacement will decrease – thereby decreasing the value of $x$ in our potential energy formula and reducing the overall potential energy. \n",
    "\n",
    "&emsp;&emsp;At the same time, while the potential energy increases, the kinetic energy of both spheres decreases. Similarly, when the potential energy of the sphere decreases, the kinetic energy of both spheres increases. This clearly demonstrates a converse relationship between potential energy and kinetic energy. Of course, such behavior is only to be expected given the Conservation of Energy principle previously mentioned. Considering that the potential energy had not changed up until this point as a result of a lack of displacement, $x$, no energy was being converted. However, when $t≈3.5$ s, displacement of the spring occurs and potential energy takes place hence after. Because energy can only be converted, this means that to increase potential energy, we have to decrease kinetic energy. The same logic applies when the potential energy decreases and is converted to kinetic energy."
   ]
  },
  {
   "cell_type": "markdown",
   "id": "7fb7be71-6747-45b8-800b-13410e486daa",
   "metadata": {},
   "source": [
    "#### Print Statements"
   ]
  },
  {
   "cell_type": "code",
   "execution_count": 17,
   "id": "7c86b4f1-885a-4623-9472-eb12ab5e55c9",
   "metadata": {},
   "outputs": [
    {
     "name": "stdout",
     "output_type": "stream",
     "text": [
      " P_before:  <0.25, 0, 0>  E_before:  0.3125\n",
      " P_after:  <0.25, 0, 0>  E_after:  0.3124996800555885\n"
     ]
    }
   ],
   "source": [
    "run_simulation(show_simulation=False, print_statements=True)"
   ]
  },
  {
   "cell_type": "markdown",
   "id": "c74d1cfc-1fdb-4dda-8a6b-266d5069533d",
   "metadata": {},
   "source": [
    "As shown above, we can see that the total momentum and total energy before and after the simulation run is the same. This was to be expected since the Conservation of Momentum and Conservation of Energy principles ensure that momentum and energy remains constant within a system. The momentum can only be transferred while energy can only be converted. Thus, while the momentum and energy within our system may be distributed differently than it was initially, it won’t change how much momentum and energy exists within said system. The system also exhibits an elastic collision, which upholds the conservation of energy, and momentum alike."
   ]
  },
  {
   "cell_type": "markdown",
   "id": "a17fbf04-5c34-4433-941c-1a3e54da00ef",
   "metadata": {},
   "source": [
    "### Simulation #2\n",
    "#### Simulation Model"
   ]
  },
  {
   "cell_type": "code",
   "execution_count": 18,
   "id": "e8e6db5a-615e-4d77-bc4e-11de07904264",
   "metadata": {},
   "outputs": [
    {
     "data": {
      "text/html": [
       "<div id=\"glowscript\" class=\"glowscript\"></div>"
      ],
      "text/plain": [
       "<IPython.core.display.HTML object>"
      ]
     },
     "metadata": {},
     "output_type": "display_data"
    },
    {
     "data": {
      "application/javascript": [
       "if (typeof Jupyter !== \"undefined\") { window.__context = { glowscript_container: $(\"#glowscript\").removeAttr(\"id\")};}else{ element.textContent = ' ';}"
      ],
      "text/plain": [
       "<IPython.core.display.Javascript object>"
      ]
     },
     "metadata": {},
     "output_type": "display_data"
    }
   ],
   "source": [
    "simulation_2 = canvas()\n",
    "\n",
    "heavier_red_car = create_car(\n",
    "    position = vec(-2.5, 0, 0),\n",
    "    velocity = vec(1, 0, 0),\n",
    "    mass = 10,\n",
    "    color = color.red\n",
    ")\n",
    "\n",
    "run_simulation(car_1 = heavier_red_car)"
   ]
  },
  {
   "cell_type": "markdown",
   "id": "c164d07a-1ffb-4f3c-a4cb-8aadb4ee1452",
   "metadata": {},
   "source": [
    "&emsp;&emsp;In this simulation run, we incremented the mass of car #1 (red) to 10 kg. Upon running, we find that the velocity of car #2 (blue) increased greatly as it sped off in the direction from whence it came. Meanwhile, car #1 (red) continued in its rightward direction at a slightly decreased speed after contacting the spring."
   ]
  },
  {
   "cell_type": "markdown",
   "id": "80bb09c5-52cb-4725-9228-250729ff455e",
   "metadata": {},
   "source": [
    "#### Velocity Graph"
   ]
  },
  {
   "cell_type": "code",
   "execution_count": 19,
   "id": "d8daac81-a1a7-42fa-afbe-26e8b0be774a",
   "metadata": {},
   "outputs": [
    {
     "data": {
      "text/html": [
       "<div id=\"glowscript\" class=\"glowscript\"></div>"
      ],
      "text/plain": [
       "<IPython.core.display.HTML object>"
      ]
     },
     "metadata": {},
     "output_type": "display_data"
    },
    {
     "data": {
      "application/javascript": [
       "if (typeof Jupyter !== \"undefined\") { window.__context = { glowscript_container: $(\"#glowscript\").removeAttr(\"id\")};}else{ element.textContent = ' ';}"
      ],
      "text/plain": [
       "<IPython.core.display.Javascript object>"
      ]
     },
     "metadata": {},
     "output_type": "display_data"
    }
   ],
   "source": [
    "velocity_graph = canvas()\n",
    "\n",
    "run_simulation(show_simulation=False, velocity_graph=True, car_1=heavier_red_car)"
   ]
  },
  {
   "cell_type": "markdown",
   "id": "02f7811d-adfc-473c-9e1f-5ba45defbe6c",
   "metadata": {},
   "source": [
    "&emsp;&emsp;As shown above, we can see that the velocities of car #1 (red) and car #2 (blue) were constant from time $t=0$ s to $t≈0.5$ s. Considering that the initial velocity attributed to car #1 (red) and car #2 (blue) are 1 m/s and -0.5 m/s respectively and that these objects don’t contact each other until approximately 3.4 seconds into the simulation, such a result makes sense. This is because during this time interval, there is no air resistance, friction or any such interaction engaging with or acting on either object. Therefore, there is no reason for the velocity of either ball to speed up or slow down at the beginning.\n",
    "\n",
    "&emsp;&emsp;However, once cars #1 and #2 interact with one another via the spring around $t≈0.5$ s, a force in the form of spring force is introduced and exerted on both objects. The force specified being spring force, $F=-kx$. Up until this point in the simulation, the displacement $x$ had remained constant at 0 and consequently there was no spring force to speak of. This all changed once the spring attached to car #2 (blue) made contact with car #1 (red) and was forced to squeeze between the two objects. Thus, $x≠0$ m and thereby $F≠0$ N/m. Knowing this, and that $F=ma$, by making the spring force some non-zero value, $a≠0$ $m/s^2$ correspondingly (since mass $m$ is fixed in this particular scenario).  Because $a≠0$ $m/s^2$, this then means that velocity is no longer constant and will now fluctuate in value. We see as such in the graphs.\n",
    "\n",
    "&emsp;&emsp;In the case of car #1 (which possesses much more mass than car #1), the decrease to its velocity is subtle. This was to be expected since it possesses much more momentum via the momentum principle: $p = mv$. This is owed to the fact that car #1 has much more mass than that of car #2 which contributes to its higher momentum. Thus, when cars #1 and #2 collide via the spring and momentum is transferred between them, the velocity change in car #1 is going to be mild due to its much greater momentum in comparison to car #2. In particular, we see that the velocity change is a decrement. This makes sense according to the Conservation of Momentum which states that in such a situation the momentum between the two colliding objects is shared. And because car #1 has more momentum to be shared, it transfers some of it to car #2. In turn, the momentum of car #1 decreases which goes on to decrease its velocity via the equation: $v=\\frac{p}{m}$. On the other hand, with car #2 gaining much more momentum from its heavier counterpart, its velocity increases greatly through this same equation.\n",
    "\n",
    "&emsp;&emsp;Once the spring decompresses and car #1 and car #2 part ways, the velocity of the both objects becomes constant once more. This was to be anticipated given that no external forces are acting on either object after this point. Thus, the velocity gained through Conservation of Momentum remains constant for the remainder of the simulation."
   ]
  },
  {
   "cell_type": "markdown",
   "id": "5a4c91d6-cc88-4fa7-b88d-290233299b6d",
   "metadata": {},
   "source": [
    "#### Momentum Graph"
   ]
  },
  {
   "cell_type": "code",
   "execution_count": 20,
   "id": "9077cc2f-ffd3-4d01-9792-2704e78741d1",
   "metadata": {},
   "outputs": [
    {
     "data": {
      "text/html": [
       "<div id=\"glowscript\" class=\"glowscript\"></div>"
      ],
      "text/plain": [
       "<IPython.core.display.HTML object>"
      ]
     },
     "metadata": {},
     "output_type": "display_data"
    },
    {
     "data": {
      "application/javascript": [
       "if (typeof Jupyter !== \"undefined\") { window.__context = { glowscript_container: $(\"#glowscript\").removeAttr(\"id\")};}else{ element.textContent = ' ';}"
      ],
      "text/plain": [
       "<IPython.core.display.Javascript object>"
      ]
     },
     "metadata": {},
     "output_type": "display_data"
    }
   ],
   "source": [
    "momentum_graph = canvas()\n",
    "\n",
    "run_simulation(show_simulation=False, momentum_graph=True, car_1=heavier_red_car)"
   ]
  },
  {
   "cell_type": "markdown",
   "id": "219adfa9-c081-49d8-b4e5-954780e384e4",
   "metadata": {},
   "source": [
    "&emsp;&emsp;Here we can see that the momentum of cars #1 (red) and #2 (blue) are constant until $t≈0.5$ s. To be more specific, car #1 is constantly positive at 10 whereas car #2 is constantly negative. Such an occurrence was foreseeable since momentum is dependent on mass and velocity via the momentum principle: $p=mv$. Since car #1 has a much greater mass as well as a positive velocity, it makes sense that it would be placed highly above the x-axis. Meanwhile, with car #2 having much less mass and a negative velocity, its resulting momentum should be expected to be more miniscule and beneath the x-axis. As for why the momentum is initially constant, this is associated with the mass, $m$, and velocity, $v$, which must also be constant for this to be the case. And indeed, the velocity is initially not changed under the effects of an external force such as air resistance or friction,  nor at no point during the simulation does the mass of either object change.\n",
    "\n",
    "&emsp;&emsp;Moving on, around 0.5 seconds in the simulation we observe that the momentum of both objects changes. Interestingly, they do so conversely in relation to the other object. This can be explained by the Conservation of Momentum principle: Upon colliding, the momentum of one object will decrease and be transferred to increase the momentum of the object it collided with. Since car #1 (red) has more momentum to give, it shares this momentum with car #2 (blue) after their brief interaction.\n",
    "\n",
    "&emsp;&emsp;After the elastic collision, the momentum will return to being constant. As before the collision, there are no external forces to influence the mass or velocity of the objects. Thus, no change of momentum takes place.\n",
    "\n",
    "&emsp;&emsp;Meanwhile, the purple line representative of the total momentum is displayed being constant throughout the simulation. Initially, it is below the red line but above the blue line. This makes sense given that the momentum of car #2 (blue) is negative, and thus the overall sum will come out short of the momentum of car #1 (red) which is positive. However, after the collision, we see that the total momentum becomes greater than that of car #1 (red) despite it being constant. This too falls in line with reason because car #1 had to transfer some of its momentum from its large reservoir to increase the reserves of car #2. As a result, the total momentum remains the same but the decrease to the momentum of car #1 places it below the total momentum line. Altogether, this all makes sense according to the Conservation of Momentum principle which allows for momentum to only be transferred – not created nor destroyed. Thus, it only makes sense that it would remain constant."
   ]
  },
  {
   "cell_type": "markdown",
   "id": "632170e4-d8a0-4411-87fe-494c49dfea4e",
   "metadata": {},
   "source": [
    "#### Energy Graph"
   ]
  },
  {
   "cell_type": "code",
   "execution_count": 21,
   "id": "b380e8e6-c799-4afe-b79b-897ae6a61504",
   "metadata": {},
   "outputs": [
    {
     "data": {
      "text/html": [
       "<div id=\"glowscript\" class=\"glowscript\"></div>"
      ],
      "text/plain": [
       "<IPython.core.display.HTML object>"
      ]
     },
     "metadata": {},
     "output_type": "display_data"
    },
    {
     "data": {
      "application/javascript": [
       "if (typeof Jupyter !== \"undefined\") { window.__context = { glowscript_container: $(\"#glowscript\").removeAttr(\"id\")};}else{ element.textContent = ' ';}"
      ],
      "text/plain": [
       "<IPython.core.display.Javascript object>"
      ]
     },
     "metadata": {},
     "output_type": "display_data"
    }
   ],
   "source": [
    "energy_graph = canvas()\n",
    "\n",
    "run_simulation(show_simulation=False, energy_graph=True, car_1=heavier_red_car)"
   ]
  },
  {
   "cell_type": "markdown",
   "id": "74c2ee12-0f1d-4b8e-91f4-cec98b26915c",
   "metadata": {},
   "source": [
    "&emsp;&emsp;For the graph displayed above, we have four lines represented: (1) a red line associated with the kinetic energy of the red sphere, (2) a blue line associated with the kinetic energy of the blue sphere, (3) a green line associated with the potential energy of the spring, and (4) a purple line associated with the total energy. Analyzing the kinetic energy lines of car #1 (red) and car #2 (blue) shows that both experienced no change with regard to kinetic energy prior to the collision. Given that kinetic energy is dependent on mass and velocity, this behavior can be attributed to the fact that the mass and velocity of both objects during this period were constant. As previously stated, the mass and velocity of cars #1 and #2 are constant themselves for the time being due to no external forces acting on them in such a way as to either reduce or increase them. Therefore, kinetic energy is constant through the formula: $KE=\\frac{1}{2} mv^2$. What’s more, we can also see that the kinetic energy of car #1 (red) is much greater than that of car #2 (blue) which is near zero. This falls in line with what we expect given that the velocity of car #1 is greater than that of car #2 on top of its much higher mass which contributes to its position within the graph.\n",
    "\n",
    "&emsp;&emsp;Then, once the objects collide around 0.5 seconds in the simulation run, we observe that the kinetic energy of car #1 dips. This makes sense because the momentum, $p=mv$, of car #1 is transferred to that of car #2 due to the Conservation of Momentum. In turn, this decreased momentum is associated with a decrease in velocity which we observe in the simulation run. Consequently, this decrease to velocity also decreases the kinetic energy of car #1 via $KE=\\frac{1}{2} mv^2$. At the same time, the momentum transferred to car #2 proportionally increases its overall momentum along with its velocity and in turn, kinetic energy.\n",
    "\n",
    "&emsp;&emsp;A behavior of particular interest with the blue line is that at $t=0.5$ s it changes from constant, to decreasing, before increasing. This contrasts with the behavior of the red line which switched from being constant to decreasing. This can be explained with the increase we see in the green line for potential energy. Consider that no displacement had occurred up until this point and thus there was no conversion of energy between potential and kinetic. At this instance, displacement does occur which causes potential energy to become non-zero and turn some of the kinetic energy in the system to potential energy as a result. At first the potential energy increases since the displacement also increases as the spring is compressed. But once the spring begins decompressing, the displacement gradually returns to 0 and the potential energy decreases due to the spring moving toward equilibrium– thereby resulting in an increase to the amount of kinetic energy within the system.\n",
    "\n",
    "&emsp;&emsp;However, once the collision ends and the objects depart from one another, displacement returns to 0 and therefore so does the potential energy. In turn, this means that kinetic energy is no longer being converted into potential energy via the Conservation of Energy rule. And since no air resistance or any such external force is acting on the objects, the velocity of each respective object remains constant and so does their kinetic energy as a result.\n",
    "\n",
    "&emsp;&emsp;As for the purple line, we can see that it is constant. This was to be expected given that the Conservation of Energy principle prevents energy from being created or destroyed – only transferred. Because of this, the total energy line doesn’t fluctuate at all, as expected."
   ]
  },
  {
   "cell_type": "markdown",
   "id": "f7db3352-7c94-4b75-bafd-8fb9d4c7520e",
   "metadata": {},
   "source": [
    "#### Print Statements"
   ]
  },
  {
   "cell_type": "code",
   "execution_count": 22,
   "id": "d58fa20f-25e5-4bec-8ec6-3996e6c034f6",
   "metadata": {},
   "outputs": [
    {
     "name": "stdout",
     "output_type": "stream",
     "text": [
      " P_before:  <8.32143, 0, 0>  E_before:  3.7359695871955245\n",
      " P_after:  <8.32143, 0, 0>  E_after:  3.7359752615294446\n"
     ]
    }
   ],
   "source": [
    "run_simulation(show_simulation=False, print_statements=True, car_1=heavier_red_car)"
   ]
  },
  {
   "cell_type": "markdown",
   "id": "009f6b6a-61a4-452c-a30c-c1a7a43694ab",
   "metadata": {},
   "source": [
    "&emsp;&emsp;Here we can see that the initial and final momentum and total energy respectively are the same. This makes sense according to the Conservation of Momentum and Conservation of Energy. Since such properties can only be transferred, the overall amount regardless of whether it’s before or after the simulation makes no difference because the momentum and energy never exit the system at any point during the simulation nor is new momentum and energy introduced."
   ]
  },
  {
   "cell_type": "markdown",
   "id": "73ad6c83-006d-47c2-9177-d014904d7777",
   "metadata": {},
   "source": [
    "## Conclusion\n",
    "### Summary\n",
    "&emsp;&emsp;To recap, we were initially asked to implement a program with the purpose of simulating the elastic collision of two objects through a spring and graph their velocities, momenta, and energies throughout the run. In addition to this, we were also asked to carry out the same simulation but modify one of the objects to possess a much higher mass than the other for the resulting “slingshot effect.”\n",
    "\n",
    "&emsp;&emsp;To obtain the first simulation run, we made it so that both objects possessed the same mass. What’s more, to ensure a collision, we had one object have a positive initial velocity to move rightward while the other had a negative initial velocity to move leftward. Since n was acting on either object at first, there were no changes in velocity and therefore no changes to momentum, kinetic energy, and potential energy during this time. However, when cars #1 and #2 interact and the spring is compressed, displacement in the spring occurs, thereby introducing potential energy which serves to convert and decrease the overall kinetic energy present. At the same time, spring force becomes non-zero which affects the momentum of both objects in such a way that the momentum of car #1 decreases (due to having a larger pool of momentum for car #2 to pull from) while the momentum of car #2 increases. In turn, the decreased momentum in the case of car #1 results in a decrease to velocity which goes on to decrease its kinetic energy and resulting in its momentum to dip below the x-axis – implying that it is now moving in the opposite direction. Simultaneously, the increased momentum for car #2 implies an increase in velocity which causes it to go above the x-axis and ultimately reverse direction while also contributing to an increase to kinetic energy as well. As this is all happening, the spring’s displacement decreases back to 0 which causes the potential energy and spring force to also decrease. Consequently, the decreased potential energy is converted back to kinetic energy while the decreasing spring force leads to smaller changes with regard to momentum and therefore velocity. And once the objects separate from one another, the external force acting on both objects is lost and the lack thereof results in no changes to momentum ($Δp=FΔt$). Because momentum no longer changes after this point, neither does velocity and therefore kinetic energy which then implies no conversion of said energy to potential energy.\n",
    "\n",
    "&emsp;&emsp;To obtain the second simulation run, we increased the mass of one of our objects while still ensuring that they would collide in a head-on collision. Because of the increase in mass, the momentum of one of our objects was much greater than the other. That aside, the momentum of both objects was retained initially since the only force – spring force – hadn’t yet become non-zero due to the lack of displacement to the spring which also meant that potential energy was zero. In turn, this maintained momentum meant that the velocity was also being maintained at the same speed and direction and therefore kinetic energy ($KE=\\frac{1}{2}mv^2$). But once displacement takes place with the compression of the spring, potential energy and spring force become non-zero. The development of potential energy within the system implies a conversion of and decrease within the pool of kinetic energy within said system which occurs due to the spring force. The potential energy generated initially increases as the spring is displaced more and more until the restoring force from the spring causes displacement to return to zero and thereby decrease back to zero as well. But despite this change, the total energy within the system does not change. Moving on from energy, we also observed that the velocity of our heavier object decreased slightly upon colliding while the velocity of the lighter object increased due to the transfer of momentum from the larger object via their interaction with the spring and the resulting force generated. And since the momentum transferred wasn’t enough to make the heavier object go below the x-axis, it still maintained its rightward course despite the collision, albeit at a slower rate. Thus, both objects were moving in the same direction by the end of the simulation.\n",
    "\n",
    "### What We Learned\n",
    "\n",
    "&emsp;&emsp;We learned a plethora of valuable information after having carried out this lab. First of all, we learned a better deal regarding the relationship between mass and velocity and how it affects the behavior of two colliding objects. From the first simulation run in particular, we found that two colliding objects with the same mass would result in two very similar graphs related to their velocities and momenta. As for the second simulation run, we found that two colliding objects with different masses (one greater and one smaller) would result in one object obtaining much more velocity than the other due to the transfer of momentum. Another important thing we learned is that without any force acting on an object, the momentum and velocity of our objects would remain constant. Furthermore, we realized that without displacement, the potential energy of the system and spring force would be at 0."
   ]
  }
 ],
 "metadata": {
  "kernelspec": {
   "display_name": "Python 3 (ipykernel)",
   "language": "python",
   "name": "python3"
  },
  "language_info": {
   "codemirror_mode": {
    "name": "ipython",
    "version": 3
   },
   "file_extension": ".py",
   "mimetype": "text/x-python",
   "name": "python",
   "nbconvert_exporter": "python",
   "pygments_lexer": "ipython3",
   "version": "3.12.3"
  }
 },
 "nbformat": 4,
 "nbformat_minor": 5
}
