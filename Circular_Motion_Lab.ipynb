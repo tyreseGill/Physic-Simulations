{
 "cells": [
  {
   "cell_type": "markdown",
   "id": "67c3d8de-9bdf-4b1b-a872-c3a4c5de9448",
   "metadata": {},
   "source": [
    "# Lab #10 Report\n",
    "\n",
    "**Group Members**: Tyrese, Liam\n",
    "\n",
    "**Class**: Physics\n",
    "\n",
    "**Originally Submitted**: December 2, 2022\n",
    "\n",
    "## Problem Statement\n",
    "We were asked to develop a VPython code capable of simulating the movements of a particle as it initially goes straight before veering left in such a way as to form three-fourths of a circle before going in a straight line in the rightwards direction. In addition to this, we had to graph the behavior of the work, kinetic energy, and angular momentum associated with our particle as it performs the actions previously mentioned.\n",
    "\n",
    "## Physics Relevant to Our Problem\n",
    "&emsp;&emsp;Given that the problem given to us requires a mass of some sort and motion, we know that we are going to have to rely on the momentum principle: $p=mv$ and $Δp = FΔt$. Not to mention, the fact that motion is involved is indicative of the relevance of the position update formula given by $Δx = vΔt$. Moreover, the mention of circular motion in particular suggests the use of the centripetal force formula: $F_c =-mv^2r$. This is based on Newton’s Second Law, which states that $F = ma$. In our simulation, the Centripetal Force always points to the center since it is based on the current direction the ball is headed, as well as where the ball is at a certain point in time. Furthermore, the work, given by the equation: $W = F \\times d \\times cos(θ)$, is also of particular interest, because the Centripetal Force is perpendicular to the displacement of the ball. Additionally, the Kinetic Energy is also of interest since it’s based on the magnitude of velocity, or speed, and it will likely shed some light on the behavior of velocity in our simulation. This is given by the equation: $KE = \\frac {1}{2} mv^2 = \\frac {p^2} {2m}$. Furthermore, the Angular Momentum is also of interest, since the ball is rotating about the z-axis while it circles the center. This in turn will also yield some interesting results, because the absence of Torque, which is exhibited in our simulation, will have an interesting effect on this quantity. And the equation for the magnitude of Angular Momentum is given by $L = mvr$, while the equation for Torque is given by $τ = r \\times F \\times sin(θ)$. Finally, the Right Hand Rule also relates to our simulation, because it will be useful in determining the direction of the Angular Momentum.\n",
    "\n",
    "## How the Code Solves Our Problem\n",
    "\n",
    "&emsp;&emsp;To start, we incorporate two objects to be displayed in our simulation: two spheres. One of these spheres, which we referred to as ball, serves to act as the particle which will perform the movements aforementioned in the “Problem We’re Trying to Solve” section. As for our second object, referred to as center, it simply remains motionless to act as a visual aid for the observer to ensure that the moving particle in our simulation behaves as expected when centripetal force is introduced. For this reason, there is no need to implement the attributes related to this object’s mass, velocity, or trail since they’re irrelevant to the purposes of our simulation and not necessary.\n",
    "\n",
    "&emsp;&emsp;Moving on, we initialize specific elements of our code before entering the while loop to avoid any computational errors. As such, we obtain the particle’s initial momentum. via the equation $p=mv$ in order to ensure that equations referring to the momentum of the particle during the first while loop won’t crash due to its momentum being undefined. Similarly, we calculate the work and kinetic energy using their respective formulas, $W=KE=F \\times d \\times cos(θ)$ and $KE=\\frac{1}{2} mv^2=\\frac {p^2}{2m}$. Meanwhile,  we set the variable related to the centripetal force of the ball equal to 〈0, 0, 0〉 N since we want to apply this force at a specific point in our simulation in such a way that the partially formed circle is centered around our motionless sphere.\n",
    "\n",
    "&emsp;&emsp;Next, the program enters the while loop and continuously updates the attributes of the moving particle and our plots until the statement ```ball.pos.x ≤ 200``` proves to be false, in which case the particle will have already formed three-fourths of a circle and begin moving in the rightward direction for the rest of the simulation. This condition statement ensures that the particle is able to carry out the behavior expected of it regardless of any changes to the time step or velocity. That aside, at the beginning of every run of the while loop, we always reset the centripetal force to 〈0, 0, 0〉 N. This is due to the fact that components of this force vector can only be non-zero under specific circumstances. For the purposes of this lab, these conditions are when the y-position of the particle is greater than or equal to 0 or when the x-position of the particle is less than or equal to 0. Recall that the position of our particle is initially positive in the x-direction and negative in the y-direction while the position of our center is at 〈0, 0, 0〉 m. Thus, when $y≥0$ with regard to the particle, it has passed the y-coordinate of the center and will begin forming a circle. Meanwhile, the statement that $x≤0$ is when the particle is on the left side of the center and implies that it has yet to complete three-fourths of a circle. Thus, when combined, these conditions form an if-statement and indicate that the particle is still in the phase of completing three-fourths of a circle. During each run of the while loop in which this is true, we calculate the centripetal force, $F_C= \\frac {-mv^2}{r}$, which we specifically want to be implemented in a manner in which the resulting circular pathway is centered on our motionless red sphere.\n",
    "\n",
    "&emsp;&emsp;After this, we update the work which requires the newly updated centripetal force previously calculated. Using the dot product, we apply the following equation: ```Work =dot(F_c, ball.v) * dt```. This achieves the total work over time applying the dot product of the Centripetal Force, and the Velocity, assuming that the time step is up to date with the simulation. Additionally, the Kinetic Energy is subsequently given by the equation: $KE = \\frac {p^2}{2m}$. Furthermore, the cross product of the ball’s position, and the ball’s momentum is applied to calculate the Angular Momentum. As a result, the following equation is given: ```ball.L = cross(ball.pos, ball.p)```. Furthermore, the position is updated, using the Momentum Principle $P =F_C Δt$ to solve for velocity $v = pm$. As a result, the position is updated using $Δx = vΔt$. Finally, before proceeding to the next run of the loop or exiting it entirely, the time $t$ is updated according to $Δt$."
   ]
  },
  {
   "cell_type": "markdown",
   "id": "515d450a-0b67-46a4-afcd-0efd534258a6",
   "metadata": {},
   "source": [
    "## The Code"
   ]
  },
  {
   "cell_type": "code",
   "execution_count": 1,
   "id": "4cfec8d2-d9cb-48b3-aca5-ddc90be2f520",
   "metadata": {},
   "outputs": [
    {
     "name": "stderr",
     "output_type": "stream",
     "text": [
      "/home/gillty/Physic_Labs/jupyter_env/lib/python3.12/site-packages/vpython/__init__.py:1: UserWarning: pkg_resources is deprecated as an API. See https://setuptools.pypa.io/en/latest/pkg_resources.html. The pkg_resources package is slated for removal as early as 2025-11-30. Refrain from using this package or pin to Setuptools<81.\n",
      "  from pkg_resources import get_distribution, DistributionNotFound\n"
     ]
    },
    {
     "data": {
      "text/html": [
       "<div id=\"glowscript\" class=\"glowscript\"></div>"
      ],
      "text/plain": [
       "<IPython.core.display.HTML object>"
      ]
     },
     "metadata": {},
     "output_type": "display_data"
    },
    {
     "data": {
      "application/javascript": [
       "if (typeof Jupyter !== \"undefined\") { window.__context = { glowscript_container: $(\"#glowscript\").removeAttr(\"id\")};}else{ element.textContent = ' ';}"
      ],
      "text/plain": [
       "<IPython.core.display.Javascript object>"
      ]
     },
     "metadata": {},
     "output_type": "display_data"
    }
   ],
   "source": [
    "from vpython import *\n",
    "\n",
    "class Dummy():\n",
    "    pass\n",
    "    \n",
    "def run_simulation(show_simulation=True, velocity_graph=False, work_energy_graph=False, angular_momentum_graph=False):\n",
    "    \n",
    "    if show_simulation:\n",
    "        ball = sphere(pos=vec(100,-200,0),\n",
    "                      mass = 1,\n",
    "                      v = vec(0,20,0),\n",
    "                      radius = 5,\n",
    "                      color=color.orange,\n",
    "                      make_trail = True)\n",
    "                        \n",
    "        center = sphere(pos=vec(0,0,0),\n",
    "                        radius = 5,\n",
    "                        color=color.red)\n",
    "    else:\n",
    "        ball = Dummy()\n",
    "        center = Dummy()\n",
    "\n",
    "        ball.pos=vec(100,-200,0)\n",
    "        ball.mass = 1\n",
    "        ball.v = vec(0,20,0)\n",
    "        center.pos=vec(0,0,0)\n",
    "\n",
    "    if velocity_graph:\n",
    "        gr_v = graph(title=' Velocity ', xtitle=' time (s) ', ytitle = ' m/s ')\n",
    "        vx_plot = gcurve(graph=gr_v, color=color.red )\n",
    "        vy_plot = gcurve(graph=gr_v, color=color.blue )\n",
    "\n",
    "    if work_energy_graph:\n",
    "        gr_power = graph(title=' Work - Energy ', xtitle=' time (s) ', ytitle = ' N * m ')\n",
    "        p_plot = gcurve(graph=gr_power, color=color.red )\n",
    "        w_plot = gcurve(graph=gr_power, color=color.blue )\n",
    "\n",
    "    if angular_momentum_graph:\n",
    "        gr_ang_mom = graph(title=' Angular Momentum ', xtitle = ' time (s) ', ytitle = ' kg m^2/s ')              \n",
    "        lx_plot = gcurve(graph=gr_ang_mom, color=color.orange )\n",
    "        ly_plot = gcurve(graph=gr_ang_mom, color=color.green )\n",
    "        lz_plot = gcurve(graph=gr_ang_mom, color=color.red )\n",
    "    \n",
    "    ball.p = ball.mass * ball.v\n",
    "    F_c = vec(0,0,0)\n",
    "    \n",
    "    t = 0\n",
    "    dt = 0.005\n",
    "    \n",
    "    myrate = 1000\n",
    "    \n",
    "    work = dot(F_c,ball.v) * dt\n",
    "    ke = ball.p.mag2/(2*ball.mass)\n",
    "    \n",
    "    while ball.pos.x <= 2 * 100:\n",
    "        \n",
    "        rate(myrate)\n",
    "        \n",
    "        F_c = vec(0,0,0)\n",
    "        \n",
    "        if ball.pos.y >= 0 or ball.pos.x <= 0:\n",
    "            F_c = -ball.mass * ball.v.mag2 / ball.pos.mag * ball.pos.hat\n",
    "            \n",
    "        work += dot(F_c, ball.v) * dt\n",
    "        ke = ball.p.mag2/(2*ball.mass)\n",
    "        \n",
    "        ball.L = cross(ball.pos,ball.p)\n",
    "        \n",
    "        ball.p += F_c * dt\n",
    "        ball.v = ball.p / ball.mass\n",
    "        \n",
    "        ball.pos += ball.v * dt\n",
    "\n",
    "        if velocity_graph:\n",
    "            vx_plot.plot(pos = (t, ball.v.x)) \n",
    "            vy_plot.plot(pos = (t, ball.v.y)) \n",
    "\n",
    "        if work_energy_graph:\n",
    "            p_plot.plot(pos = (t, ke))\n",
    "            w_plot.plot(pos = (t, work))\n",
    "\n",
    "        if angular_momentum_graph:\n",
    "            lx_plot.plot(pos = (t, ball.L.x))\n",
    "            ly_plot.plot(pos = (t, ball.L.y))\n",
    "            lz_plot.plot(pos = (t, ball.L.z))\n",
    "        \n",
    "        t += dt"
   ]
  },
  {
   "cell_type": "markdown",
   "id": "a144b90a-3a7c-49e3-88b4-dbbf0577c587",
   "metadata": {},
   "source": [
    "## Results and Discussion\n",
    "### Simulation Model"
   ]
  },
  {
   "cell_type": "code",
   "execution_count": 2,
   "id": "2d748491-ba41-4428-9703-e999708185b2",
   "metadata": {},
   "outputs": [
    {
     "data": {
      "text/html": [
       "<div id=\"glowscript\" class=\"glowscript\"></div>"
      ],
      "text/plain": [
       "<IPython.core.display.HTML object>"
      ]
     },
     "metadata": {},
     "output_type": "display_data"
    },
    {
     "data": {
      "application/javascript": [
       "if (typeof Jupyter !== \"undefined\") { window.__context = { glowscript_container: $(\"#glowscript\").removeAttr(\"id\")};}else{ element.textContent = ' ';}"
      ],
      "text/plain": [
       "<IPython.core.display.Javascript object>"
      ]
     },
     "metadata": {},
     "output_type": "display_data"
    }
   ],
   "source": [
    "simulation = canvas()\n",
    "\n",
    "run_simulation()"
   ]
  },
  {
   "cell_type": "markdown",
   "id": "d0c280c9-8fad-454c-bb7b-8845c7a956db",
   "metadata": {},
   "source": [
    "As we can observe from its trail, a particle is shown initially going in a straight line vertically. However, it begins turning to follow a path in such a way that it forms three-quarters of a circle and after, it returns to going in a straight line – this time in the horizontal direction. This makes sense since the centripetal force starts acting when the y component of the ball has just surpassed 0 m, and ends when the y-component of the ball is negative, and the x-component of the ball has surpassed 0 m. "
   ]
  },
  {
   "cell_type": "markdown",
   "id": "650441d6-cb31-487b-896d-9a7c41ad3fb6",
   "metadata": {},
   "source": [
    "### Velocity Graph"
   ]
  },
  {
   "cell_type": "code",
   "execution_count": 3,
   "id": "2fa1c00b-559d-42d5-b1a9-91d60b68316f",
   "metadata": {},
   "outputs": [
    {
     "data": {
      "text/html": [
       "<div id=\"glowscript\" class=\"glowscript\"></div>"
      ],
      "text/plain": [
       "<IPython.core.display.HTML object>"
      ]
     },
     "metadata": {},
     "output_type": "display_data"
    },
    {
     "data": {
      "application/javascript": [
       "if (typeof Jupyter !== \"undefined\") { window.__context = { glowscript_container: $(\"#glowscript\").removeAttr(\"id\")};}else{ element.textContent = ' ';}"
      ],
      "text/plain": [
       "<IPython.core.display.Javascript object>"
      ]
     },
     "metadata": {},
     "output_type": "display_data"
    }
   ],
   "source": [
    "velocity_graph = canvas()\n",
    "\n",
    "run_simulation(show_simulation=False, velocity_graph=True)"
   ]
  },
  {
   "cell_type": "markdown",
   "id": "184ec16a-0b63-4902-a4f7-fdd100b239b4",
   "metadata": {},
   "source": [
    "&emsp;&emsp;Here, we have two lines: (1) a blue line representative of the velocity of the particle in the y-direction and (2) a red line symbolic of the velocity of the particle in the x-direction. Focusing on the x-direction (red line) first, we see that it is constant at 0 m/s up until $t=10$ s. This makes sense since the particle is only moving upward before the Centripetal Force is applied, and there is no movement to the right, or left as a result. \n",
    "\n",
    "&emsp;&emsp;Specifically, to describe the motion during this time interval, the velocity in the y-direction is constant at 20 m/s up until this point. This too makes sense since the particle is shown moving upwards in the y-direction exclusively. And since no force is currently acting on the particle, there is no change to momentum which remains constant during this period via the equation $Δp=FΔt$. In turn, no change is made to velocity as well during this time since $v= \\frac {p}{m}$, where momentum and mass are constant.\n",
    "\n",
    "&emsp;&emsp;During the time interval $10≤t≤33.615$ seconds, we observe that the velocity in the x and y-directions are fluctuating. This makes sense since during this interval the particle will be experiencing centripetal force to form three-fourths of a circle around the center in our simulation. As a consequence of introducing force, the momentum and velocity will begin changing via $Δp=FΔt$ and $v=\\frac {p}{m}$ respectively.\n",
    "\n",
    "&emsp;&emsp;Initially, the red line for the x-direction of velocity decreases from 0 m/s to -20 m/s before increasing to 20 m/s. This indicates that the particle goes from not moving in any particular direction with regard to x to moving in the leftward direction and then moving in the rightward direction. Additionally, we see the blue line for the y-direction of velocity decreases from 20 m/s to -20 m/s to 0 m/s. The transition from positive to negative and finally zero implies that the particle is moving upward then down and then stops changing y-direction. These movements were to be expected since centripetal force causes the body it’s acting on to follow a circular motion. Thus, as we see in the simulation, the particle goes up and veers left to complete the upper portion of the circle prior to moving downward and turning right for the bottom half. This all makes sense considering that centripetal force points toward the center. Since the Force starts acting when the ball passes the center in the y-direction, we can simply run an equation at this point to illustrate what’s going on. $F_C= \\frac {-mv^2}{r}$. The mass will be 1 kg, and the velocity will be the same as the initial velocity at 20 m/s. The ball’s position (r) will be 〈100, 0, 0〉 m since it’s 100 meters to the right of the center as the Centripetal Force activates. The magnitude of this will be $\\sqrt{(100^2 + 0 + 0) m^2} = 100m$. And then we need to find the unit vector of the ball’s current position. Therefore, $\\hat{r} = \\frac{r}{|r|} = \\frac{〈100, 0, 0〉 m}{\\sqrt{(100^2 + 0 + 0) m^2} = 〈1,0,0〉$. Now we have everything that we need to solve for our Centripetal Force: $F_C= -\\frac{(1 kg) (20 m/s)^2}{100 m} \\times 〈1,0,0〉$. In turn our Centripetal Force at this point when it first activates will end up being 〈-4,0,0〉 N. This illustrates that it points toward the center, based on its current position, and velocity, and will continue this behavior throughout the entire time the Centripetal Force is active. Subsequently, this illustrates that the ball will be accelerating toward the center, and this manipulates the path of travel by changing the velocity, which updates its position. All in all, the centripetal force points toward the center because it depends on the current path of travel, and position, and thereby causes the object to follow a circular motion when it is present.\n",
    "\n",
    "&emsp;&emsp;Another interesting behavior of the particle displayed by this graph is the fact that the particle’s velocity never changes. While the directional components of the velocity of the particle change, the magnitude, $❘v❘$, does not. To illustrate this, let's discuss the $v_x$ and $v_y$ values of the particle during specific instances of the simulation. Take for instance when $t=0$ s where $v_x=0$ m/s and $v_y=20$ m/s and the magnitude comes out to be: $❘v❘=\\sqrt{(0^2+20^2) (m/s)^2}=20 m/s$. Similarly, when $t \\approx 17.5$ s, $v_x=-20$ m/s and $v_y=0$ m/s, the magnitude obtained is:  $❘v❘=\\sqrt{(-20^2+0^2) (m/s)^2} =20 m/s$. And by the end of the simulation, $v_x=20$ m/s and $v_y=0$ m/s and the magnitude comes out to be: $❘v❘=\\sqrt{(20^2+0^2) (m/s)^2}=20 m/s$. As this all shows, the magnitude of velocity (speed) with regard to our particle never changes during our simulation and is constant. This information will be of particular relevance in the analysis of the following graph."
   ]
  },
  {
   "cell_type": "markdown",
   "id": "e87ee766-056c-4466-adef-e518a3f06636",
   "metadata": {},
   "source": [
    "### Work Energy Graph"
   ]
  },
  {
   "cell_type": "code",
   "execution_count": 4,
   "id": "4a59df33-16b4-432b-aee0-d605d55eb631",
   "metadata": {},
   "outputs": [
    {
     "data": {
      "text/html": [
       "<div id=\"glowscript\" class=\"glowscript\"></div>"
      ],
      "text/plain": [
       "<IPython.core.display.HTML object>"
      ]
     },
     "metadata": {},
     "output_type": "display_data"
    },
    {
     "data": {
      "application/javascript": [
       "if (typeof Jupyter !== \"undefined\") { window.__context = { glowscript_container: $(\"#glowscript\").removeAttr(\"id\")};}else{ element.textContent = ' ';}"
      ],
      "text/plain": [
       "<IPython.core.display.Javascript object>"
      ]
     },
     "metadata": {},
     "output_type": "display_data"
    }
   ],
   "source": [
    "work_energy_graph = canvas()\n",
    "\n",
    "run_simulation(show_simulation=False, work_energy_graph=True)"
   ]
  },
  {
   "cell_type": "markdown",
   "id": "b8bb3ed9-c729-4394-9157-8263a5b45a2a",
   "metadata": {},
   "source": [
    "&emsp;&emsp;Here we have two lines: (1) the red line for kinetic energy and (2) the blue line for work. As we can see the kinetic energy line (in red) is constant at $200 N \\times m = 200 J$ (joules) while work is constant at 0 J. Starting with kinetic energy, let's refer to the formula: $KE=\\frac{p^2}{2m}$. This can be rewritten as $KE= \\frac{1}{2}mv^2$. At first, this behavior was quite perplexing given that the velocity in the x and y-directions are shown to fluctuate throughout the simulation in Graph #1 – implying that the kinetic energy would fluctuate as well. However, upon closer inspection, one can notice that while the velocity in the x and y-directions does indeed change, the magnitude of velocity, $❘v❘$, remains constant. This is made evident by the fact that $❘v❘=\\sqrt{v_x^2+v_y^2+v_z^2}=20$ m/s throughout the simulation run as mentioned during the analysis and breakdown of Graph #1. Also, vz in this instance can be disregarded because changes in the velocity only occur in the x, and y directions respectively. Nonetheless, because the magnitude of velocity is always constant at 20 m/s, the kinetic energy is also constant as well. Thus we obtain the given behavior through the following process: $KE= \\frac{1}{2}mv^2=\\frac{1}{2}(1 kg)(20 m/s)^2=\\frac{1}{2}(400 kg \\times m^2/s^2)=200 kg \\times m^2/s^2$. This also indicates that though the speed (magnitude of velocity) remains the same throughout the entire runtime, the direction of that speed is actually the cause of the change in velocity.\n",
    "\n",
    "&emsp;&emsp;Moreover, Work essentially is equivalent to 0 Joules throughout the simulation due to the fact that the Force is always instantaneously perpendicular to the path of travel. Therefore, the angle between the Force, and the path of travel is always 90°, which causes the Work to be 0 Joules at all times. This is attributed to the equation for Work which can be rewritten as $W=F \\times d cos(θ)$ where the substitution of $θ=90°cos(90°)$ in Work leads to Work being 0 Joules all throughout the run: $W=F \\times d \\times cos(90°)= 0$ J"
   ]
  },
  {
   "cell_type": "markdown",
   "id": "905f252e-fc9a-4389-95ea-5a2946274ac5",
   "metadata": {},
   "source": [
    "### Angular Momentum Graph"
   ]
  },
  {
   "cell_type": "code",
   "execution_count": 5,
   "id": "d570ffc7-1005-4ef3-9415-daa8e8d2e079",
   "metadata": {},
   "outputs": [
    {
     "data": {
      "text/html": [
       "<div id=\"glowscript\" class=\"glowscript\"></div>"
      ],
      "text/plain": [
       "<IPython.core.display.HTML object>"
      ]
     },
     "metadata": {},
     "output_type": "display_data"
    },
    {
     "data": {
      "application/javascript": [
       "if (typeof Jupyter !== \"undefined\") { window.__context = { glowscript_container: $(\"#glowscript\").removeAttr(\"id\")};}else{ element.textContent = ' ';}"
      ],
      "text/plain": [
       "<IPython.core.display.Javascript object>"
      ]
     },
     "metadata": {},
     "output_type": "display_data"
    }
   ],
   "source": [
    "angular_momentum_graph = canvas()\n",
    "\n",
    "run_simulation(show_simulation=False, angular_momentum_graph=True)"
   ]
  },
  {
   "cell_type": "markdown",
   "id": "4e74e6eb-1acf-48fa-bee0-2575907786e1",
   "metadata": {},
   "source": [
    "In the case of this graph, we have three lines to consider: (1) an orange line representative of angular momentum in the x-direction, (2) a green line representative of angular momentum in the y-direction, and (3) a red line representative of angular momentum in the z-direction. As we can see, all lines are constant throughout the duration of the simulation. To be more specific, the angular momentum is shown to be $0 \\frac{kg \\times m^2}{s}$ in the x and y-directions while it is constant at $2000 \\frac{kg \\times m^2}{s}$ in the z-direction. In other terms, the angular momentum is always: $〈0, 0, 2000〉 \\frac{kg \\times m^2}{s}$.  Referring to the formula for the magnitude of angular momentum, $L = mvr$, we find that: $L=(1 kg)(20 m/s)(100 m)=2000 \\frac{kg \\times m^2}{s}$. This makes sense considering that Lz accounts for this positive $2000 \\frac{kg \\times m^2}{s}$ alone. This is proven by the motion itself from the simulation. We can see that the ball is rotating around the z-axis, which points away, and towards us. This is because the ball is moving around the center while making position changes in the x, and y directions respectively. Additionally, since the ball moves upward & left, then downward & left, then downward & right, we can see that the ball is making a counter-clockwise motion around the center. By applying the Right Hand Rule, we can see that when the direction of rotation is going from left to right during the bottom half of the circular motion, our thumb will be facing towards us with our fingers bent representing the left to right direction of rotation. The left to right motion is indicated from the joint going toward the nail. Then at this point, the angular velocity would be about to be traveling upward, indicated by our thumb pointing toward us, which is reflected in the simulation. Thus, it makes sense that the Angular Momentum would be positive, and pointing toward us in the z-direction.\n",
    "\tFurthermore, the Angular Momentum in all axes are constant. Specifically, the orange \n",
    "($L_x$), and green ($L_y$ ) are constant at $0 \\frac{kg \\times m^2}{s}$, while the red ($L_z$), is constant at $2000 \\frac{kg \\times m^2}{s}$. This indicates that there is no torque. This is because when there’s no torque, the angular momentum does not change. Torque is given by the equation: $τ = rFsin(θ)$, where theta represents the angle between the Force and displacement from the center point to the ball in motion. Because the Centripetal Force always points in the same direction as the displacement from the ball to the center, the angle between them will ultimately be 0 degrees, which in turn, proves the torque will be 0, since $sin(0) = 0$, and substituting this back into the torque equation will yield $τ = r \\times F \\times sin(0) = 0$  $N \\times m$, regardless of what the displacement, and Force values will be. Because they point in the same direction at all times, there must be no torque. And since Torque is absent in this simulation, the Angular Momentum will ultimately not change, and in turn, remain constant, which is what is reflected in the graph above."
   ]
  },
  {
   "cell_type": "markdown",
   "id": "f5f84e04-8619-4499-9ae3-d54bfd31c1f6",
   "metadata": {},
   "source": [
    "## Conclusion\n",
    "\n",
    "### Summary\n",
    "&emsp;&emsp;To recap, we were asked to write a program with the purpose of simulating a particle in motion under the effects of centripetal force. This ultimately formed a three-fourths circular path of travel. To understand our simulation, we had to understand the physics relevant to our problem, that being: angular momentum, torque, centripetal force, kinetic energy, work, and the momentum principle to name but a few.\n",
    "\n",
    "&emsp;&emsp;To obtain our simulation, we set our particle to move in a vertical fashion until the program detects that the y-coordinates of the particle and the center about which it will rotate are one of the same. Up until this point, the velocity of the particle will have been constant in the x and y-directions since no force was acting on the particle and thus no changes were made to momentum such that the velocity would have decreased or increased. However, once the particle and center are aligned in the y-direction, the particle will begin experiencing centripetal force and begin rotating about our center. As a result, the x and y-directions of velocity are changed in accordance with the particle’s leftward, rightward, upward, and downward movements. And once the program has detected that the particle has reached the point that three-fourths of the circle has been completed, the particle is cut off and released from the influence of centripetal force – thereby causing momentum and velocity to return to a constant state. All while this is happening, the work, kinetic energy, and angular momentum within our system all remain constant throughout. Starting with work, it is uniform throughout due to the fact that the angle at which the force is acting on the particle is always perpendicular at 90° to the displacement. This causes work to be 0 J throughout given that $W=Fd cos(θ)$ and $cos(90°)=0$. Meanwhile, kinetic energy is always constant since both mass and the magnitude of velocity, both of which KE = 1/2 mv2 depends on, are always constant – with the magnitude of velocity in particular being 20 m/s through the equation: $❘v❘=\\sqrt{v_x^2+v_y^2+v_z^2}$. As for angular momentum, it too is constant in all directions since the particle rotates about the z-axis and the components that make up the angular momentum formula, $L=mvr$, are never subjected to change in the simulation. Additionally, no torque happens to be present by the equation: $τ = rFsin(θ)$. This is because the Centripetal Force, and the displacement from the ball to the center happen to point in the same direction. As a result, the angle between the direction of the Force, and this displacement ends up being 0°. With this, the Torque ends up being 0 Nm, by $τ = rFsin(0°) = 0$ $N \\times m$. Therefore, Torque is absent, which means that Angular Momentum remains constant.\n",
    "\n",
    "### What We Learned\n",
    "\n",
    "&emsp;&emsp;After having completed this week’s lab, we found ourselves better off than previously. One of the things we learned through this lab was that centripetal force only influences the x, y, and z-directions of velocity – not its magnitude. This ties into the next thing that we realized in that the kinetic energy of an object under centripetal force is constant (assuming mass doesn’t change and no other forces are acting on the system). Furthermore, this lab helped us realize that the absence of torque is associated with constant behavior in angular momentum in the x, y, and z-directions."
   ]
  }
 ],
 "metadata": {
  "kernelspec": {
   "display_name": "Python 3 (ipykernel)",
   "language": "python",
   "name": "python3"
  },
  "language_info": {
   "codemirror_mode": {
    "name": "ipython",
    "version": 3
   },
   "file_extension": ".py",
   "mimetype": "text/x-python",
   "name": "python",
   "nbconvert_exporter": "python",
   "pygments_lexer": "ipython3",
   "version": "3.12.3"
  }
 },
 "nbformat": 4,
 "nbformat_minor": 5
}
