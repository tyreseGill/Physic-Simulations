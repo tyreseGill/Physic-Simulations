{
 "cells": [
  {
   "cell_type": "markdown",
   "id": "a76427d3-61e9-4055-b1f3-437c5caebdab",
   "metadata": {},
   "source": [
    "# Lab Report #8\n",
    "\n",
    "## Problem We’re Trying to Solve\n",
    "We were assigned the task of developing a VPython code designed to simulate falling coffee filters experiencing air resistance. In addition to this, we had to determine the dragging coefficient, $C$, necessary to make a single coffee filter hit the ground in 1.44 seconds and a stack of four coffee filters in 0.88 seconds. What’s more, from the data collected, we needed to deduce the terminal velocities of the single filter and stack of filters respectively.\n",
    "## How the Code Solves Our Problem\n",
    "The simulation models two objects: a single coffee filter (red cone) and a stack of four (blue cone), dropped from the same height onto a ground plane. Gravity and drag are predefined, with drag parameters tuned so the single filter falls in 1.44 s and the stack in 0.88 s. Gravity is expressed as a vector for clarity, and constants like air density, cone radius, and drag coefficient are fixed for consistency.\n",
    "\n",
    "For the single filter, initial momentum and velocity are set to zero. Inside the while loop, the net force is calculated as gravity plus drag. Momentum is then updated using the impulse-momentum principle, followed by velocity and position updates. Time is incremented each loop until the filter hits the ground, at which point the program outputs fall time and impact velocity.\n",
    "\n",
    "Once the user clicks, the program repeats the process for the stack of four filters. The logic is identical except the mass is scaled up ($m₄ = 4m₁$). Momentum, velocity, and time are reset to zero so the stack’s motion is simulated independently."
   ]
  },
  {
   "cell_type": "markdown",
   "id": "170b28a2-6597-431d-88b1-67045f7a0ea7",
   "metadata": {},
   "source": [
    "## The Code"
   ]
  },
  {
   "cell_type": "code",
   "execution_count": 1,
   "id": "35ae6386-41be-481d-b1b9-0638d9a87e00",
   "metadata": {},
   "outputs": [
    {
     "name": "stderr",
     "output_type": "stream",
     "text": [
      "/home/gillty/Physic_Labs/jupyter_env/lib/python3.12/site-packages/vpython/__init__.py:1: UserWarning: pkg_resources is deprecated as an API. See https://setuptools.pypa.io/en/latest/pkg_resources.html. The pkg_resources package is slated for removal as early as 2025-11-30. Refrain from using this package or pin to Setuptools<81.\n",
      "  from pkg_resources import get_distribution, DistributionNotFound\n"
     ]
    },
    {
     "data": {
      "text/html": [
       "<div id=\"glowscript\" class=\"glowscript\"></div>"
      ],
      "text/plain": [
       "<IPython.core.display.HTML object>"
      ]
     },
     "metadata": {},
     "output_type": "display_data"
    },
    {
     "data": {
      "application/javascript": "if (typeof Jupyter !== \"undefined\") { window.__context = { glowscript_container: $(\"#glowscript\").removeAttr(\"id\")};}else{ element.textContent = ' ';}",
      "text/plain": [
       "<IPython.core.display.Javascript object>"
      ]
     },
     "metadata": {},
     "output_type": "display_data"
    }
   ],
   "source": [
    "from vpython import *\n",
    "\n",
    "class Dummy():\n",
    "    pass\n",
    "    \n",
    "def run_simulation(show_simulation=True, speed_graph=False, print_statements=False):\n",
    "\n",
    "    g = vec(0,-9.779, 0)\n",
    "    m1 = 8.52e-3\n",
    "    h0 = 3.03 \n",
    "    rf = 5.8e-2 \n",
    "    m4 = 4 * m1 \n",
    "    rho = 1.045\n",
    "    C = 6.5 \n",
    "\n",
    "    if show_simulation:\n",
    "        ground = box(\n",
    "            pos=vec(0, -0.02, 0),\n",
    "            size=vec(3, 0.02, .4),\n",
    "            color=color.green\n",
    "        )\n",
    "        \n",
    "        f1 = cone(\n",
    "            pos=vec(-1, h0, 0),\n",
    "            axis=vec(0, -1, 0),\n",
    "            size=vec(0.1, 1, 0.1),\n",
    "            color=color.red,\n",
    "            radius=0.1,\n",
    "            make_trail = True\n",
    "        )\n",
    "    else:\n",
    "        f1 = Dummy()\n",
    "        f1.pos = vec(-1, h0, 0)\n",
    "        f1.axis=vec(0, -1, 0)\n",
    "\n",
    "    if speed_graph:\n",
    "        v_graph = graph(title='Speed of Free Falling Coffee Filter(s)', xtitle = ' t ', ytitle=' v ' )\n",
    "        m1v = gcurve(graph = v_graph, color=color.red)\n",
    "        m4v = gcurve(graph = v_graph, color=color.blue)\n",
    "    \n",
    "    dt = 0.001\n",
    "    myrate = 500\n",
    "    \n",
    "    t = 0\n",
    "    f1.p = vec(0,0,0)\n",
    "    f1.v = f1.p / m1\n",
    "    \n",
    "    while f1.pos.y > 0:\n",
    "        rate(myrate)\n",
    "        \n",
    "        F = m1 * g + 1/2*C*rho* rf**2 * pi * f1.v.mag2 * (-f1.v.hat)\n",
    "        \n",
    "        f1.p += F * dt\n",
    "        f1.v = f1.p / m1\n",
    "        f1.pos += f1.v * dt\n",
    "\n",
    "        if speed_graph:\n",
    "            m1v.plot(pos=(t,f1.v.y))\n",
    "        \n",
    "        #Fgrav = m1 * g\n",
    "        #Fdrag = 1/2*C*rho* rf**2 * pi * f1.v.mag2 * (-f1.v.hat)\n",
    "        #print(\"Gravity:\", Fgrav, 'vs Drag', Fdrag)\n",
    "        \n",
    "        t = t+dt\n",
    "    if print_statements:\n",
    "        print(f\"t_1 = {t:.3f} v_1 = {f1.v.y:.5f}\")\n",
    "        \n",
    "    if show_simulation:    \n",
    "        f2 = cone(\n",
    "            pos=vec(1, h0, 0),\n",
    "            axis=vec(0, -1, 0),\n",
    "            size=vec(0.1, 1, 0.1),\n",
    "            color=color.blue,\n",
    "            radius=0.1,\n",
    "            make_trail = True\n",
    "        )\n",
    "    else:\n",
    "        f2 = Dummy()\n",
    "        f2.pos=vec(1, h0, 0)\n",
    "        f2.axis=vec(0, -1, 0)\n",
    "    \n",
    "    f2.p = vec(0,0,0)\n",
    "    f2.v = f2.p / m4\n",
    "    \n",
    "    t = 0\n",
    "    dt = 0.001\n",
    "    myrate = 500\n",
    "    \n",
    "    while f2.pos.y > 0:\n",
    "        rate(myrate)\n",
    "        F = m4 * g + 1/2*C*rho* rf**2 * pi * f2.v.mag2 * (-f2.v.hat)\n",
    "        \n",
    "        f2.p += F * dt\n",
    "        f2.v = f2.p / m4\n",
    "        f2.pos += f2.v * dt\n",
    "\n",
    "        if speed_graph:\n",
    "            m4v.plot(pos=(t, f2.v.y))\n",
    "        \n",
    "        #Fgrav = m4 * g\n",
    "        #Fdrag = 1/2*C*rho* rf**2 * pi * f2.v.mag2 * (-f2.v.hat)\n",
    "        #print(\"Gravity:\", Fgrav, 'vs Drag', Fdrag)\n",
    "        \n",
    "        t = t+dt\n",
    "\n",
    "    if print_statements:\n",
    "        print(f\"t_2 = {t:.3f} v_2 = {f2.v.y:.5f}\")"
   ]
  },
  {
   "cell_type": "markdown",
   "id": "958d3163-f5b2-47c9-bdcd-8dcac207dc76",
   "metadata": {},
   "source": [
    "## Results and Discussion\n",
    "### Simulation\n",
    "![Simulation](assets/gifs/Coffee_Filter_Falling.gif)"
   ]
  },
  {
   "cell_type": "code",
   "execution_count": 2,
   "id": "60f6bd40-fb72-4064-9893-4c014ded287b",
   "metadata": {},
   "outputs": [
    {
     "data": {
      "text/html": [
       "<div id=\"glowscript\" class=\"glowscript\"></div>"
      ],
      "text/plain": [
       "<IPython.core.display.HTML object>"
      ]
     },
     "metadata": {},
     "output_type": "display_data"
    },
    {
     "data": {
      "application/javascript": "if (typeof Jupyter !== \"undefined\") { window.__context = { glowscript_container: $(\"#glowscript\").removeAttr(\"id\")};}else{ element.textContent = ' ';}",
      "text/plain": [
       "<IPython.core.display.Javascript object>"
      ]
     },
     "metadata": {},
     "output_type": "display_data"
    }
   ],
   "source": [
    "simulation = canvas()\n",
    "\n",
    "run_simulation()"
   ]
  },
  {
   "cell_type": "markdown",
   "id": "d90e543b-db02-46f7-beb6-3e7890450cac",
   "metadata": {},
   "source": [
    "&emsp;&emsp;This simulation portrays two cones – a red cone representative of a single coffee filter and a blue cone illustrative of a stack of four coffee filters. The trails left behind are indicative of a straight descent downward towards the ground. This makes sense given that there was no force impacting the x-direction of the filters. Therefore, it is expected that the object will travel straight down because gravity will be pulling them in the y-direction until they make contact with the ground. And because drag depends on the speed of an object, it can only impact the y-direction as a result.\n",
    "\n",
    "&emsp;&emsp;Furthermore, what’s happening in our simulation is that each object starts at rest. The Force of Gravity will be greater for the blue cone due to the increase in mass. However, they will both start initially falling at the same rate. Additionally, at this point, the Drag Force will be increasing for both simulations as the object speeds up toward the ground due to the Gravitational Force.\n",
    "\n",
    "&emsp;&emsp;However, because the Drag Force increases toward the opposing Gravitational Force as the object falls further, the Net Force must decrease as a result and approach 0 N as they continue to cancel each other out. This leads the acceleration to be $0$ $m/s^2$ at some point. So, since increasing the mass increases the Gravitational Force by direct proportion, the Drag Force will be forced to increase for a longer period of time to cancel the Gravitational Force out, and as a result the heavier system will be accelerating for a longer period of time due to the increase in mass and Gravitational Force. This helps us understand why the blue cone falls to the ground faster than the red cone, as the Drag Force competes with the larger Gravitational Force for a longer period of time, and thus the blue cone accelerates for a longer period time downward than red cone, which then allows the blue cone to reach the ground faster as it will keep speeding up while eventually the red cone won’t be accelerating. We will discuss this further in the following section."
   ]
  },
  {
   "cell_type": "markdown",
   "id": "3de78762-bf84-4f20-a7dd-99d344b91a02",
   "metadata": {},
   "source": [
    "### Speed Graph"
   ]
  },
  {
   "cell_type": "code",
   "execution_count": 3,
   "id": "c2f535f5-c049-43cc-8bd1-c3dd22b16330",
   "metadata": {},
   "outputs": [
    {
     "data": {
      "text/html": [
       "<div id=\"glowscript\" class=\"glowscript\"></div>"
      ],
      "text/plain": [
       "<IPython.core.display.HTML object>"
      ]
     },
     "metadata": {},
     "output_type": "display_data"
    },
    {
     "data": {
      "application/javascript": "if (typeof Jupyter !== \"undefined\") { window.__context = { glowscript_container: $(\"#glowscript\").removeAttr(\"id\")};}else{ element.textContent = ' ';}",
      "text/plain": [
       "<IPython.core.display.Javascript object>"
      ]
     },
     "metadata": {},
     "output_type": "display_data"
    }
   ],
   "source": [
    "speed_graph = canvas()\n",
    "\n",
    "run_simulation(show_simulation=False, speed_graph=True)"
   ]
  },
  {
   "cell_type": "markdown",
   "id": "45ab4a79-bded-4ada-b242-da93d75b7f29",
   "metadata": {},
   "source": [
    "&emsp;&emsp;Here we can see two lines: a red line associated with our single filter (red cone) and a blue line linked to a stack of filters (blue cone). Let’s start by first discussing why both lines are initially moving at 0 meters per second. This can be attributed to the fact that the filter is being dropped which implies that the object was initially at a state of rest. Therefore, its velocity would be 0 at first and explains why it has yet to build up an acceleration.\n",
    "\n",
    "&emsp;&emsp;Moving on, we notice that all the velocity values obtained from the simulation are negative. This was to be expected since the filters are moving in the negative y-direction downward. At no point do the filters move up in the positive direction. Therefore, such a trend only makes sense considering the circumstances of the simulation.\n",
    "    \n",
    "&emsp;&emsp;Next, we observe that the velocities of both the red and blue lines eventually stop accelerating and flatline to a constant value. For the single coffee filter (red line), this occurs when the velocity has reached -1.5 m/s. In the case of the stack of coffee filters (blue line), this takes place when the velocity has reached -3 m/s. Despite being four times the mass of the other, the terminal velocity of the stack of coffee filters was only about double that of the single coffee filter by comparison. To discover why this is the case, we must understand why the velocity becomes constant in the first place. In order for velocity to be constant, all the components in the formula computing for it should also be constant. Starting with the formula $velocity =\\frac {momentum} {mass}$ ($v = {p} {m}$), we know that mass is obviously constant throughout the simulation. Thus, momentum is the focus of our attention. Moving backwards to the momentum update (or change in momentum) formula, $p_f = p_i + F \\times Δt$. We now narrow our search to force, which relates to the equation: $F_{net} = F_{gravity} + F_{drag}$. We also focus on this due to the fact that the Force is the Change in Momentum. This wherein lies the behavior of our graph responsible for terminal velocity.\n",
    "    \n",
    "&emsp;&emsp;We know that the gravitational force is constant throughout the simulation in the case of both free falling objects since neither mass nor gravity change. However, the gravitational force between the two objects will differ considering that the masses of the two objects differ and that $F_{gravity} = Mass \\times Gravity$. In the case of our simulation, the force of gravity for the red cone would be $F_g = m_1 g$. This means that the force of gravity would be directly proportional to the mass of a singular coffee filter. On the other hand, the force of gravity for the blue cone would be: $F_g = 4m_1 g$. This means that the force of gravity would be directly proportional to four times the mass of a singular coffee filter, thereby representing the mass of four coffee filters. To be more specific, the gravitational force acting on the single coffee filter and stack of coffee filters are: $F_{grav, single} ≅ -0.0833 N$ and $F_{grav, stack} ≅ -0.3333 N$. Therefore, this must mean that the drag force must be approaching the positive numerical counterpart of gravitational force since the Drag Force starts out at 0 N, and grows to become larger over time as the magnitude of velocity becomes greater. We can see this in how the Drag Force is directly proportional to the velocity squared. This means that the faster the object is traveling, the greater the Drag Force will become, thereby slowing the object down as it continues to descend downward by opposing Gravity. This will lead the Drag Force to eventually cancel out the Gravitational Force as it grows larger by an increase in velocity, thus making the Net Force equivalent to 0 N by the end. This effectively makes momentum and in turn velocity constant. Therefore, due to the greater Gravitational Force in the stack of four coffee filters, the longer it will take the Drag Force to be canceled out, which leads to the object accelerating for a longer period of time. This means the four coffee filters will spend more time speeding up than the single coffee filter, which means it will have a greater final (or terminal) velocity by the end of the simulation. And this is what we see reflected in our graph, as our four coffee filters represented in blue successfully end with a greater downward speed than our single coffee filter represented by red.\n",
    "\n",
    "&emsp;&emsp;Moreover, without air resistance, this graph would look completely different. By excluding air resistance, we remove the drag force, $F_D = \\frac{1}{2} ⍴v^2C_D A$, from the equation for the net force, thus leaving us with just the gravitational force, $F_g = mg$. Considering that both mass, $m$, and gravity, $g$, are constant throughout the simulation, this means that the gravitational force itself is also constant. In turn, whenever we update momentum via the addition of the change of momentum ($Δp = F_{net} Δt$), we are always adding the same value over and over again (since $Δt$ is also always constant). Consequently, the lack of air resistance would lead to a decreasing, linear graph. The slope of this theoretical graph, therefore, would be the acceleration due to gravity, or -9.779 m/s2 throughout its entire duration. And it is for this reason that a bowling ball and a feather are able to hit the ground at the same time when air resistance is absent.\n",
    "\n",
    "&emsp;&emsp;Next, to compare this with our actual simulation, initially the slope of our graph above with drag, and gravity present, followed a decreasing linear trend associated with the behavior of gravitational force alone. This makes sense since the coffee filters are just being released from rest and have barely begun to gain any acceleration from gravity. Also since the Drag Force is dependent on velocity, at this starting point, the object has an initial velocity of 0 m/s, which means that the Drag Force will be at a value of 0 N. Next, since the Net Force is given by the equation $F_{net} = F_{gravity} + F_{drag}$, we can simplify this to be $F_{net} = F_{gravity} = mg$. And since the slope of the velocity graph will be the change in velocity, which is the same as acceleration, by these fundamental ideas, we can expect the change in velocity, or the slope of the graph at this initial state when $t = 0$ s, to be the acceleration due to gravity as well, represented by $g = -9.779 m/s^2$."
   ]
  },
  {
   "cell_type": "markdown",
   "id": "eef4e03f-f757-46ca-8c4a-8840d3fd4c56",
   "metadata": {},
   "source": [
    "### Print Statements"
   ]
  },
  {
   "cell_type": "code",
   "execution_count": 4,
   "id": "0470fef7-c891-44db-b179-2aa5590f91ae",
   "metadata": {},
   "outputs": [
    {
     "name": "stdout",
     "output_type": "stream",
     "text": [
      "t_1 = 2.096 v_1 = -1.52358\n",
      "t_2 = 1.210 v_2 = -3.04462\n"
     ]
    }
   ],
   "source": [
    "run_simulation(show_simulation=False, print_statements=True)"
   ]
  },
  {
   "cell_type": "markdown",
   "id": "2a74fc27-f6e4-4a7d-af2c-4e1bbb3b21cf",
   "metadata": {},
   "source": [
    "&emsp;&emsp;The print statement displayed above showcases the time at which the filters hit the ground and the velocity they traveled when they did so. \n",
    "Specifically, it took 1.440 seconds for the red cone with a single coffee filter to fall to the ground. And it also took 0.881 seconds for the blue cone with four coffee filters to fall to the ground. Therefore the quicker drop time of 0.881 seconds achieved with our value C (the drag coefficient) was predicted by our model for an object four times the mass. And this aligns with what we would expect to happen since the object with a greater mass must accelerate for a longer period of time in comparison to an object with a smaller mass. And this means that the heavier object would cover a greater distance over a shorter amount of time, and thus reach the ground faster, since the lighter object stopped accelerating before the heavier object. And this is what we see reflected above.\n",
    "\n",
    "&emsp;&emsp;Additionally, we also see the final velocity of the object with a single coffee filter reaching approximately -1.524 m/s. And we see the final velocity of the object with four coffee filters (quadruple the mass) reaching approximately -3.026 m/s by the end. Therefore, our model predicts a terminal speed of -3.026 m/s for an object of four times the smallest mass. And this is also to be expected because the second object accelerates for longer in the negative y-direction, therefore it makes sense that the object with four times the mass will have a larger speed by the time it hits the ground. \n"
   ]
  },
  {
   "cell_type": "markdown",
   "id": "33a2ce89-3925-4673-998e-ef7d3bff7b20",
   "metadata": {},
   "source": [
    "## Conclusion\n",
    "&emsp;&emsp;In conclusion, we had to develop a code modeling the fall of coffee filters undergoing the force of gravity and drag. In order to obtain the results that we did, we modified the dragging coefficient to be 6.5 which gave us a time of 1.44 and 0.88 seconds respectively for the coffee filters to hit the ground. The shorter fall time mentioned is attributed to the larger mass with four coffee filters. And our terminal velocities ended up being -1.524 and -3.026 m/s respectively.  The larger speed in the negative direction is also attributed to the larger mass with four coffee filters as well.\n",
    "\n",
    "&emsp;&emsp;In all, we had several key takeaways from this lab. First of all, we learned the dramatic change in behavior of velocity when the force from drag is acting on the system. In essence, the velocity of an object builds up in the negative direction until the Force of Drag cancels out the Gravitational Force. And thus the acceleration decreases over time toward 0 m/s2 when Drag is present, whereas without it the acceleration of an object is constant when only the Force of Gravity is acting on the system. Second of all, we learned how the terminal velocity of an object is dependent on its mass as displayed by the fact that the single coffee filter was able to reach its terminal velocity faster than a stack of four coffee filters. We also learned that the initial change in velocity when both Drag, and Gravity are present is the acceleration due to gravity. And we also learned that when Drag isn’t present, the acceleration due to gravity will be the change in velocity throughout its entire duration, and not just at the beginning."
   ]
  }
 ],
 "metadata": {
  "kernelspec": {
   "display_name": "Python 3 (ipykernel)",
   "language": "python",
   "name": "python3"
  },
  "language_info": {
   "codemirror_mode": {
    "name": "ipython",
    "version": 3
   },
   "file_extension": ".py",
   "mimetype": "text/x-python",
   "name": "python",
   "nbconvert_exporter": "python",
   "pygments_lexer": "ipython3",
   "version": "3.12.3"
  }
 },
 "nbformat": 4,
 "nbformat_minor": 5
}
