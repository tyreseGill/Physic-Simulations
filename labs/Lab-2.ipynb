{
 "cells": [
  {
   "cell_type": "markdown",
   "id": "066c3ab2-6c1f-4753-a3ec-7c505cf384e7",
   "metadata": {},
   "source": [
    "# Lab Report #2\n",
    "\n",
    "## Problem Statement\n",
    "\n",
    "Our goal is to manipulate specific variables in order to simulate four orbital scenarios:\n",
    "1. **Circular Run** - representing Earth’s nearly circular orbit around the Sun.\n",
    "2. **Two Elliptical Runs** - showing systems where orbits take on oval shapes.\n",
    "3. **Binary System Run** - simulating a system where the Earth’s mass is artificially scaled to match the Sun’s mass. In this case, both objects orbit a common center of mass rather than the Earth orbiting the Sun alone.\n",
    "   \n",
    "For each scenario, we also generated four graphs:\n",
    "* Earth & Sun momentum vs. time.\n",
    "* Total system momentum vs. time.\n",
    "* Earth & Sun velocities vs. time.\n",
    "* A custom graph comparing Earth & Sun positions vs. time.\n",
    "\n",
    "## Physics Relevant to the Problem\n",
    "The simulation is grounded in the Momentum Principle, which relates force, momentum, and velocity. The momentum of each body is given by:\n",
    "* $p_{Earth} \\times = m_{Earth} \\times v_{Earth}$\n",
    "* $p_{Sun}=m_{Sun} \\times v_{Sun}$\n",
    "We require the following physical parameters:\n",
    "* $m_{Earth}=5.972 \\times 10^{24}kg$\n",
    "* $m_{Sun}=1.989 \\times 10^{30}kg$\n",
    "* $R_{Earth}=6.4 \\times 10^6m$\n",
    "* $R_{Sun}=7.0 \\times 10^8m$\n",
    "* $G = 6.7 \\times 10^{−11} \\frac {N \\times m^2} {kg^2}$\n",
    "\n",
    "The Earth begins at position  ($1.49 \\times 10^{11}$,0,0) m  with an initial velocity  $v_y=2.978×10^4$ m/s, while the Sun starts at the origin with zero velocity. The simulation time step is one hour ($dt=3600$ s), and the total run length is one simulated year.\n",
    "\n",
    "The gravitational force between the two objects is modeled by: $F= -\\frac{G \\times m_{Earth} \\times m_{Sun}}{|r|^2} \\times \\hat{r}$\n",
    "\n",
    "This force updates each object’s momentum and velocity at every timestep: (1) $p_f=p_i+FΔt$, (2) $v=\\frac{p}{m}$, and (3) $r_f=r_i+vΔt$\n",
    "\n",
    "This iterative approach reflects Newton’s Method of numerical integration, allowing us to update velocity, position, and momentum continuously throughout the simulation.\n",
    "\n",
    "##  How the Code Solves Our Problem\n",
    "The code performs three main tasks:\n",
    "1. Initialize Objects – Create the Sun (orange sphere at origin) and Earth (blue sphere offset in x). Their masses, radii, and initial velocities are set here.\n",
    "2. Initialize Momentum and Constants – Calculates initial momenta, stores baseline values, and defines the gravitational constant.\n",
    "3. Run Simulation Loop – The program iterates over time until Earth makes one revolution around the Sun:\n",
    "\n",
    "    * Compute distance vector $r$\n",
    "    * Calculate gravitational force\n",
    "    * Update Earth and Sun momentum using $Δp=FΔt$. Note the opposite signs due to Newton’s Third Law.\n",
    "    * Recompute velocities and update positions.\n",
    "    * Record data for graphing.\n",
    "    * Check orbital completion by comparing momentum direction.\n",
    "    * Update reference values for the next iteration.\n",
    "\n",
    "Through this loop, the simulation produces both the visual orbits and the associated graphs of momentum, velocity, and position."
   ]
  },
  {
   "cell_type": "markdown",
   "id": "ca095557-2ae3-4ded-933a-9d65f1cf4954",
   "metadata": {},
   "source": [
    "## The Code"
   ]
  },
  {
   "cell_type": "code",
   "execution_count": null,
   "id": "f319ee57-701d-439b-b78b-80906ec44281",
   "metadata": {},
   "outputs": [],
   "source": [
    "from vpython import *\n",
    "\n",
    "\n",
    "def create_earth(position = vec(1.49e11, 0, 0), mass = 5.972e24, velocity = vec(0, 1.0 * 2.978e4, 0)):\n",
    "    \"\"\"\n",
    "    Create a VPython sphere object representing the Earth.\n",
    "    \n",
    "    Args:\n",
    "        pos (vpython.vec):\n",
    "            Initial position of Earth\n",
    "        mass (float):\n",
    "            Mass of Earth in kg\n",
    "        velocity (vpython.vec):\n",
    "            Initial velocity vector of Earth\n",
    "\n",
    "    Returns:\n",
    "        A VPython sphere object with additional physical attributes.\n",
    "    \"\"\"\n",
    "    earth = sphere(\n",
    "        pos = position,         # Earth-Sun distance,\n",
    "        mass = mass,            # Earth mass (kg)\n",
    "        radius = 6 * 6.4e8,     # Scaled Earth radius (m) for visibility\n",
    "        v = velocity,           # Initial orbital velocity (m/s)\n",
    "        color = color.blue,\n",
    "        make_trail = True\n",
    "    )\n",
    "\n",
    "    return earth\n",
    "\n",
    "\n",
    "def create_sun(position=vec(0, 0, 0), mass=1.989e30, velocity=vec(0,0,0)):\n",
    "    \"\"\"\n",
    "    Create a VPython sphere object representing the Sun.\n",
    "    \n",
    "    Args:\n",
    "        pos (vpython.vec):\n",
    "            Initial position of Sun (default = (0, 0, 0)).\n",
    "        mass (float):\n",
    "            Mass of Sun in kg (default = 1.989e30 kg).\n",
    "        velocity (vpython.vec):\n",
    "            Initial velocity vector of Sun (default is 0 along all axes).\n",
    "\n",
    "    Returns:\n",
    "        A VPython sphere object with additional physical attributes.\n",
    "    \"\"\"\n",
    "    \n",
    "    sun = sphere(\n",
    "        pos = position,          # Centers Sun in our simulation\n",
    "        mass = mass,             # Sun mass (kg)\n",
    "        radius = 10 * 7e8,       # Scaled Sun radius (m) for visibility\n",
    "        v = velocity,            # Initial orbital velocity (m/s)\n",
    "        color = color.orange,\n",
    "        make_trail = True\n",
    "    )\n",
    "\n",
    "    return sun\n",
    "\n",
    "\n",
    "def run_simulation(earth=None, sun=None):\n",
    "    \"\"\"\n",
    "    Run a simplified Sun–Earth orbital simulation and optionally display \n",
    "    VPython graphs of work and kinetic energy over time.\n",
    "\n",
    "    Args:\n",
    "            \n",
    "        Earth (vpython.sphere):\n",
    "            If not None, uses the Earth object passed in by user.\n",
    "            \n",
    "        Sun (vpython.sphere):\n",
    "            If not None, uses the Sun object passed in by user.\n",
    "    \"\"\"\n",
    "\n",
    "    # 3D simulation requires vpython.sphere objects\n",
    "    # Uses the Earth object passed by user, otherwise uses \"real-world\" properties for Earth\n",
    "    if earth is None:\n",
    "        earth = create_earth()\n",
    "\n",
    "    # Uses the Sun object passed by user, otherwise uses \"real-world\" properties for Sun\n",
    "    if sun is None:\n",
    "        sun = create_sun()\n",
    "\n",
    "    # Initial momenta\n",
    "    earth.p = earth.mass * earth.v\n",
    "    sun.p = sun.mass * sun.v\n",
    "    earth.old_p = earth.p \n",
    "    \n",
    "    # Universal gravitational constant\n",
    "    G = 6.7e-11\n",
    "    \n",
    "    # Time variables\n",
    "    t = 0               # Initial simulation time\n",
    "    dt = 60 * 60        # Represents timestep of 1 hour\n",
    "    earth.T = 0         # Counter for orbital period\n",
    "    myrate = 1500       # Controls animation speed\n",
    "\n",
    "    # Momentum graph (Earth & Sun components)\n",
    "    gr_p = graph(title=' Earth & Sun Momentum Diagram ', xtitle =' time (s)', ytitle=' p (kg⋅m/s)')\n",
    "    p_plot_E_x = gcurve(graph=gr_p, color=color.blue )\n",
    "    p_plot_E_y = gcurve(graph=gr_p, color=color.green )\n",
    "    p_plot_E_z = gcurve(graph=gr_p, color=color.cyan )\n",
    "    p_plot_S_x = gcurve(graph=gr_p, color=color.red )\n",
    "    p_plot_S_y = gcurve(graph=gr_p, color=color.orange )\n",
    "    p_plot_S_z = gcurve(graph=gr_p, color=color.yellow )\n",
    "    \n",
    "    # Total momentum graph (system momentum check)\n",
    "    gr_pt = graph(title=' Total Momentum Diagram ', xtitle=' time (s) ', ytitle=' p (kg⋅m/s)')\n",
    "    p_plot_t_x = gcurve(graph=gr_pt, color=color.red )\n",
    "    p_plot_t_y = gcurve(graph=gr_pt, color=color.blue )\n",
    "    p_plot_t_z = gcurve(graph=gr_pt, color=color.green )\n",
    "    \n",
    "    # Velocity graph (Earth & Sun components)\n",
    "    gr_v = graph(title=' Earth & Sun Velocity Diagram ', xtitle=' time (s) ', ytitle=' v (m/s)')\n",
    "    v_plot_E_x = gcurve(graph=gr_v, color=color.blue )\n",
    "    v_plot_E_y = gcurve(graph=gr_v, color=color.green )\n",
    "    v_plot_E_z = gcurve(graph=gr_v, color=color.cyan )\n",
    "    v_plot_S_x = gcurve(graph=gr_v, color=color.red )\n",
    "    v_plot_S_y = gcurve(graph=gr_v, color=color.orange )\n",
    "    v_plot_S_z = gcurve(graph=gr_v, color=color.yellow )\n",
    "    \n",
    "    # Position graph (Earth & Sun components)\n",
    "    gr_position = graph(title=' Earth & Sun position Diagram ', xtitle=' time (s) ', ytitle=' pos (m) ')\n",
    "    position_plot_E_x = gcurve(graph=gr_position, color=color.blue )\n",
    "    position_plot_E_y = gcurve(graph=gr_position, color=color.green )\n",
    "    position_plot_E_z = gcurve(graph=gr_position, color=color.cyan )\n",
    "    position_plot_S_x = gcurve(graph=gr_position, color=color.red )\n",
    "    position_plot_S_y = gcurve(graph=gr_position, color=color.orange )\n",
    "    position_plot_S_z = gcurve(graph=gr_position, color=color.yellow )\n",
    "\n",
    "    years = []\n",
    "    \n",
    "    ONE_YEAR = 60 * 60 * 24 * 365\n",
    "\n",
    "    # Simulation loop to update variables over time\n",
    "    while t < ONE_YEAR:  # Runs simulation for one in-simulation year\n",
    "        rate(myrate)\n",
    "        \n",
    "        # Relative position vector from Earth to Sun\n",
    "        r = earth.pos - sun.pos\n",
    "        \n",
    "        # Gravitational force on Earth due to Sun (Newton’s law of gravitation)\n",
    "        F = - G * earth.mass * sun.mass / r.mag**2 * r.hat \n",
    "        \n",
    "        # Update momenta\n",
    "        earth.p = earth.p + F * dt\n",
    "        sun.p = sun.p - F * dt\n",
    "        \n",
    "        # Update velocities\n",
    "        earth.v = earth.p / earth.mass\n",
    "        sun.v = sun.p / sun.mass \n",
    "        \n",
    "        # Update positions\n",
    "        earth.pos = earth.pos + earth.v * dt\n",
    "        sun.pos = sun.pos + sun.v * dt\n",
    "    \n",
    "        # Graphs momentum components if required\n",
    "        p_plot_E_x.plot(pos=(t,earth.p.x))\n",
    "        p_plot_E_y.plot(pos=(t,earth.p.y))\n",
    "        p_plot_E_z.plot(pos=(t,earth.p.z))\n",
    "        p_plot_S_x.plot(pos=(t,sun.p.x))\n",
    "        p_plot_S_y.plot(pos=(t,sun.p.y))\n",
    "        p_plot_S_z.plot(pos=(t,sun.p.z))\n",
    "        \n",
    "        # Graphs total system momentum if required\n",
    "        p_plot_t_x.plot(pos=(t,sun.p.x+earth.p.x))\n",
    "        p_plot_t_y.plot(pos=(t,sun.p.y+earth.p.y))\n",
    "        p_plot_t_z.plot(pos=(t,sun.p.z+earth.p.z))\n",
    "        \n",
    "        # Graphs velocity components if required\n",
    "        v_plot_E_x.plot(pos=(t,earth.v.x))\n",
    "        v_plot_E_y.plot(pos=(t,earth.v.y))\n",
    "        v_plot_E_z.plot(pos=(t,earth.v.z))\n",
    "        v_plot_S_x.plot(pos=(t,sun.v.x))\n",
    "        v_plot_S_y.plot(pos=(t,sun.v.y))\n",
    "        v_plot_S_z.plot(pos=(t,sun.v.z))\n",
    "        \n",
    "        # Graphs position components if required\n",
    "        position_plot_E_x.plot(pos=(t,earth.pos.x))\n",
    "        position_plot_E_y.plot(pos=(t,earth.pos.y))\n",
    "        position_plot_E_z.plot(pos=(t,earth.pos.z))\n",
    "        position_plot_S_x.plot(pos=(t,sun.pos.x))\n",
    "        position_plot_S_y.plot(pos=(t,sun.pos.y))\n",
    "        position_plot_S_z.plot(pos=(t,sun.pos.z))\n",
    "        \n",
    "        # Increment time\n",
    "        t += dt\n",
    "\n",
    "        # Detect when Earth completes one orbit:\n",
    "        # Check when momentum in x-direction flips sign (crossing orbit point)\n",
    "        if earth.old_p.x > 0 and earth.p.x < 0 :\n",
    "            simulated_days = round(earth.T / (60 * 60 * 24), 2)\n",
    "\n",
    "            # Correctly calculates year based on the number of days passed\n",
    "            if len(years) == 0:\n",
    "                years.append(simulated_days)\n",
    "            else:\n",
    "                last_revolution = years[-1]\n",
    "                revolution_days = round(simulated_days - last_revolution, 2)\n",
    "                years.append(simulated_days)\n",
    "                print(f\"Year length: {revolution_days} days\")\n",
    "        \n",
    "        # Store current momentum for next loop check\n",
    "        earth.old_p = earth.p\n",
    "        earth.T = earth.T + dt\n",
    "        "
   ]
  },
  {
   "cell_type": "markdown",
   "id": "8ab64989-58cd-411e-aa57-9081de186ca3",
   "metadata": {},
   "source": [
    "## Simulation #1 - Circular Orbit\n",
    "![Simulation](../assets/gifs/Lab-2/Earth_Orbiting_Sun_1.gif)"
   ]
  },
  {
   "cell_type": "markdown",
   "id": "36a19abc-53af-459e-b1e0-c5ebe05e1e6b",
   "metadata": {},
   "source": [
    "**Observations**: Running the simulation with the default variables produces a circular orbit of the Earth around the Sun. The Earth’s momentum changes continuously as it orbits, while the Sun’s momentum also changes but at a much smaller rate due to its vastly greater mass. Visually, the Sun appears stationary, but the graphs confirm that it moves slightly in response to Earth’s gravitational pull. This matches expectations for a circular Earth–Sun system. However, the orbital period printed out is slightly off: the simulation yields ~358 days per orbit instead of the real-world 365. This discrepancy arises because our model assumes a perfectly circular orbit, while Earth’s actual orbit is elliptical. Despite the difference, the output is reasonable: it reproduces the correct long-term orbital behavior within the limits of the simplified model."
   ]
  },
  {
   "cell_type": "markdown",
   "id": "156a5767-dac9-4dd6-8304-120db1470ed7",
   "metadata": {},
   "source": [
    "### Graphs"
   ]
  },
  {
   "cell_type": "markdown",
   "id": "cc099f59-ce8b-432e-af4d-48c2dfc37494",
   "metadata": {},
   "source": [
    "#### Graph #1 – Earth and Sun Momentum\n",
    "![Momentum Graph](../assets/img/Lab-2/Run-1/2-1-Momentum.png)"
   ]
  },
  {
   "cell_type": "markdown",
   "id": "73ac0833-a6c0-4d40-bb1c-57a0d351b6da",
   "metadata": {},
   "source": [
    "* Sun’s momentum (red, orange, yellow = x, y, z):\n",
    "    * In the x-direction, the Sun oscillates between positive and negative momentum as the Earth tugs on it from alternating sides of the orbit. This mirrors Earth’s momentum in the x-direction, but in opposite sign, consistent with Newton’s Third Law.\n",
    "    * In the y-direction, the Sun’s momentum cycles upward and downward, pausing at 0 when Earth completes an orbit. Again, this mirrors Earth’s y-momentum but offset.\n",
    "    * In the z-direction, both Earth and Sun remain at 0 since there is no motion toward or away from the observer.\n",
    "* Earth’s momentum (blue, green, cyan = x, y, z):\n",
    "    * The x-component alternates between positive and negative values, showing Earth’s left–right motion across each orbit.\n",
    "    * The y-component starts positive (upward), then decreases into the negative (downward) direction before repeating, corresponding to Earth’s vertical orbital path.\n",
    "    * The z-component remains 0, as expected.\n",
    "\n",
    "Together, the graphs show Earth and Sun momenta oscillating in equal and opposite ways, confirming conservation of momentum."
   ]
  },
  {
   "cell_type": "markdown",
   "id": "8620ea9c-950b-4815-8be9-16e1c7b5c411",
   "metadata": {},
   "source": [
    "#### Graph #2 – Total Momentum p(t)\n",
    "![Total Momentum Graph](../assets/img/Lab-2/Run-1/2-1-Total-Momentum.png)"
   ]
  },
  {
   "cell_type": "markdown",
   "id": "4678e457-696d-4397-83ab-223902b76dd2",
   "metadata": {},
   "source": [
    "This graph sums the Earth and Sun momenta in each direction (red = x, blue = y, green = z\n",
    "* The z-component remains constant at 0, consistent with no motion toward/away from the observer.\n",
    "* The y-component is constant at about $1.8×10^{29} kg \\times m/s$. This occurs because the Earth’s decreasing momentum exactly balances the Sun’s increasing momentum in the y-direction.\n",
    "* The x-component also cancels out, since Earth and Sun’s x-momenta are mirrored about 0.\n",
    "\n",
    "Thus, the system’s total momentum is conserved in all directions, as expected."
   ]
  },
  {
   "cell_type": "markdown",
   "id": "97035bfc-b1cd-4841-8595-cb8e6e93ff1c",
   "metadata": {},
   "source": [
    "#### Graph #3 – Earth and Sun Velocity\n",
    "![Velocity Graph](../assets/img/Lab-2/Run-1/2-1-Velocity.png)"
   ]
  },
  {
   "cell_type": "markdown",
   "id": "49eacfbb-dd91-43d8-9e69-c1a32d255690",
   "metadata": {},
   "source": [
    "* Sun’s velocity is not visible because its enormous mass makes its velocity extremely small (less than 1 m/s). This is consistent with its small momentum compared to its mass.\n",
    "* Earth’s velocity closely follows its momentum curve, since $v=\\frac{p}{m}$. Peaks and troughs in velocity align directly with the momentum graph."
   ]
  },
  {
   "cell_type": "markdown",
   "id": "72e287af-0c2a-497a-a9bd-362fa7f7b3b0",
   "metadata": {},
   "source": [
    "#### Graph #4 – Earth and Sun Position\n",
    "![Position Graph](../assets/img/Lab-2/Run-1/2-1-Position.png)"
   ]
  },
  {
   "cell_type": "markdown",
   "id": "309500c2-bb33-4a9a-85aa-349e2f4c2498",
   "metadata": {},
   "source": [
    "* The Earth’s position curve is the integral of its velocity graph, showing how orbital position evolves over time.\n",
    "    * In the x-direction, Earth starts far to the right, moves leftward as velocity becomes negative, then reverses when velocity becomes positive again.\n",
    "    * In the y-direction, Earth starts upward, then transitions downward as its velocity switches from positive to negative.\n",
    "* The Sun’s position shows almost no change because its velocity is negligible.\n",
    "* As expected, the z-components remain zero throughout.\n",
    "\n",
    "Overall, the position and velocity graphs are consistent: velocity determines the slope of the position curve, and changes in direction align perfectly between the two."
   ]
  },
  {
   "cell_type": "markdown",
   "id": "ac5e3fd8-127b-4fcf-8bec-513bb45d0e3a",
   "metadata": {},
   "source": [
    "## Simulation #2 – Elliptical Orbit\n",
    "![Simulation](../assets/gifs/Lab-2/Earth_Orbiting_Sun_2.gif)\n",
    "\n",
    "### Overview\n",
    "**Setup**: For this run, the Earth’s initial y-velocity was modified to be $1.3 \\times 2.978e4$ m/s. This adjustment causes the Earth to deviate from a circular orbit and instead follow an elliptical trajectory. The goal of this simulation is to observe the orbital shape, track changes in momentum and velocity of both the Earth and Sun, and confirm that the results align with Newton’s Laws and the inverse-square nature of gravitational force."
   ]
  },
  {
   "cell_type": "markdown",
   "id": "9843705a-c17c-4ed3-a2fe-5e4f6aabea62",
   "metadata": {},
   "source": [
    "**Observations**\n",
    "* After running the simulation, the Earth can be seen following an elliptical pathway, moving farther away from the Sun on the left side of the orbit and remaining closer to the Sun when passing on the right. This behavior indicates that the Earth’s momentum is not constant — it changes direction and magnitude over time as it orbits.\n",
    "* The Sun’s momentum also changes, although it appears nearly stationary in the visualization. This is due to its enormous mass: the Sun does move, but its velocity is so small compared to Earth’s that its motion is not visually significant. The momentum graphs reveal that the Sun is, in fact, responding to the Earth’s gravitational pull in an equal and opposite fashion, consistent with Newton’s Third Law."
   ]
  },
  {
   "cell_type": "markdown",
   "id": "2b7e51d4-f533-4a8d-b0eb-15a80a1fcb42",
   "metadata": {},
   "source": [
    "### Graphs\n",
    "#### Graph #5 - Earth and Sun Momentum Diagram\n",
    "![Momentum Graph](../assets/img/Lab-2/Run-2/2-2-Momentum.png)"
   ]
  },
  {
   "cell_type": "markdown",
   "id": "3ebbd4c4-0f18-477b-a2a7-1c4a4cfea827",
   "metadata": {},
   "source": [
    "* Red, orange, yellow lines → Sun’s momentum in x, y, z directions.\n",
    "* Blue, green, black lines → Earth’s momentum in x, y, z directions.\n",
    "* X-momentum: mirrored between Earth and Sun. When Earth’s x-momentum is positive, the Sun’s is negative, and vice versa. This reflects Newton’s Third Law (equal and opposite forces).\n",
    "* Y-momentum: the Sun shows steady positive values that increase and then decrease, while Earth’s y-momentum mirrors it in the opposite direction. Again, this symmetry is expected from the mutual gravitational interaction.\n",
    "* Z-momentum: ≈ 0 for both bodies. This makes sense because no forces are pulling objects into or out of the plane of motion."
   ]
  },
  {
   "cell_type": "markdown",
   "id": "aa3380dd-0a31-4a63-90c4-f866da87083a",
   "metadata": {},
   "source": [
    "#### Graph #6 - Total Momentum Diagram\n",
    "![Momentum Graph](../assets/img/Lab-2/Run-2/2-2-Total-Momentum.png)"
   ]
  },
  {
   "cell_type": "markdown",
   "id": "ae0ea019-9dab-489d-b584-1f06470da65f",
   "metadata": {},
   "source": [
    "* X-direction: Earth and Sun momenta cancel, resulting in a total near 0 throughout the simulation.\n",
    "* Y-direction: total momentum remains constant at roughly $2.3 × 10^{29}$ $kg \\times m/s$. This confirms momentum conservation—the Earth’s and Sun’s y-components shift in opposite ways, keeping the sum constant.\n",
    "* Z-direction: remains 0 throughout, consistent with the absence of motion along the z-axis."
   ]
  },
  {
   "cell_type": "markdown",
   "id": "db81b435-db3a-47da-9765-8efccd0b7d07",
   "metadata": {},
   "source": [
    "#### Graph #7 - Earth and Sun Velocity Diagram\n",
    "![Velocity Graph](../assets/img/Lab-2/Run-2/2-2-Velocity.png)"
   ]
  },
  {
   "cell_type": "markdown",
   "id": "3ffa0401-21fd-4441-9ee2-81d631dad994",
   "metadata": {},
   "source": [
    "* Sun’s velocity is extremely small in x and y, and exactly 0 in z. This matches expectations given its huge mass.\n",
    "* Earth’s x-velocity: starts at 0, decreases negatively (moving left), then crosses into positive values (moving right). This change reflects its elliptical path and the varying gravitational pull from the Sun.\n",
    "* Earth’s y-velocity: initially positive but decreases toward 0, eventually becoming negative, then reversing again to positive. This cycle corresponds to the elliptical motion—slowing down as it approaches aphelion (farthest point), then speeding up again as it nears perihelion (closest point).\n",
    "* These variations align with the inverse-square law of gravity: as the Earth’s distance from the Sun changes, the gravitational pull (and thus its acceleration) changes as well."
   ]
  },
  {
   "cell_type": "markdown",
   "id": "42747277-7c4b-4250-aacb-ca3564f66cb0",
   "metadata": {},
   "source": [
    "#### Graph #8 - Earth and Sun Position Diagram\n",
    "![Position Graph](../assets/img/Lab-2/Run-2/2-2-Position.png)"
   ]
  },
  {
   "cell_type": "markdown",
   "id": "332423d3-9714-46a8-8003-341c4b48db82",
   "metadata": {},
   "source": [
    "* Earth’s y-position: increases, decreases below the axis, then increases again, mirroring the velocity graph. Since velocity is the derivative of position, the correlation is expected.\n",
    "* Earth’s x-position: shifts from above to below the axis, remaining below by the end of the simulation. This indicates it has not completed a full orbital cycle within the time span observed.\n",
    "* Sun’s position (especially in z) remains essentially constant, reinforcing that its motion is negligible relative to Earth’s.\n",
    "\n",
    "#### Conclusion\n",
    "&emsp;&emsp;This simulation demonstrates that modifying the Earth’s velocity results in an elliptical orbit consistent with Kepler’s First Law. The momentum diagrams confirm Newton’s Third Law by showing equal and opposite momentum shifts between Earth and Sun. The velocity and position graphs align with the inverse-square law of gravity, showing how changes in distance directly affect acceleration and velocity.\n",
    "\n",
    "&emsp;&emsp;Finally, the absence of a print statement in the output is consistent with the fact that the Earth has not completed a single orbit within the one-year simulation window."
   ]
  },
  {
   "cell_type": "markdown",
   "id": "a1b5b45f-0c56-4924-96a9-613212fa266d",
   "metadata": {},
   "source": [
    "## Simulation #3 – Second Elliptical Orbit\n",
    "![Simulation](../assets/gifs/Lab-2/Earth_Orbiting_Sun_3.gif)"
   ]
  },
  {
   "cell_type": "markdown",
   "id": "bc54fcd6-2f88-4682-9772-17ad18d88bf6",
   "metadata": {},
   "source": [
    "### Overview\n",
    "**Setup**: For this simulation, the mass of the Sun was increased to $5 \\times 10^{30} kg$. Since the gravitational force is proportional to mass ($F = \\frac {G \\times m_1 \\times m_2} {r^2}$), this change increases the Sun’s pull on the Earth by direct proportion. From momentum ($p = m \\times v$), we also expect the Sun’s momentum peaks to be higher, since a larger mass produces greater momentum at the same velocity. The goal is to observe how this adjustment affects the Earth’s orbit, the Sun’s response, and the overall conservation of momentum in the system."
   ]
  },
  {
   "cell_type": "markdown",
   "id": "85627ac3-36fa-4a17-8e39-82e2853cdaf0",
   "metadata": {},
   "source": [
    "**Observations**: Running the simulation produces an elliptical orbit where the Earth travels farther to the right side of the Sun and remains closer on the left side. As in earlier runs, both Earth and Sun exhibit changing momentum throughout the orbit. The Sun’s motion remains visually small, but the momentum graphs reveal clear oscillations as the Sun responds to Earth’s gravitational pull. These results behave exactly as predicted: stronger gravity produces more tightly bound orbital dynamics and larger momentum magnitudes."
   ]
  },
  {
   "cell_type": "markdown",
   "id": "4770d5a6-f3d4-4fcf-a1ab-8822ced5cc49",
   "metadata": {},
   "source": [
    "### Graphs\n",
    "#### Graph #9 - Earth and Sun Momentum Diagram\n",
    "![Momentum Graph](../assets/img/Lab-2/Run-3/2-3-Momentum.png)"
   ]
  },
  {
   "cell_type": "markdown",
   "id": "ee4db40e-b8d8-41a4-828f-395056993e85",
   "metadata": {},
   "source": [
    "* Sun’s Momentum (red: x, orange: y, yellow: z):\n",
    "    * In the x-direction, the Sun’s momentum oscillates between positive and negative values, corresponding to it shifting right and left as the Earth pulls on it during orbit.\n",
    "    * In the y-direction, the Sun’s momentum is mostly positive, showing upward motion with alternating increases and decreases. The momentum occasionally drops to zero when Earth completes a loop, then resumes, reflecting the Sun’s subtle “wobble.”\n",
    "    * Z-momentum remains 0, as expected.\n",
    "* Earth’s Momentum (blue: x, green: y, cyan: z):\n",
    "    * X-momentum mirrors the Sun’s, with equal magnitude but opposite direction—demonstrating Newton’s Third Law.\n",
    "    * Y-momentum starts positive, decreases to negative, then cycles back. This shows Earth moving upward, slowing, then reversing direction as part of its elliptical trajectory.\n",
    "    * Z-momentum stays at 0.\n",
    "* Interpretation: Both Earth and Sun graphs mirror each other, showing equal and opposite exchanges of momentum that align with the simulation’s visual behavior."
   ]
  },
  {
   "cell_type": "markdown",
   "id": "9f2a9482-8739-49fb-bb84-0c8f539bd6e7",
   "metadata": {},
   "source": [
    "#### Graph #10 - Total Momentum Diagram\n",
    "![Total Momentum Graph](../assets/img/Lab-2/Run-3/2-3-Total-Momentum.png)"
   ]
  },
  {
   "cell_type": "markdown",
   "id": "abe1988b-d404-4080-8209-024d8ae13b05",
   "metadata": {},
   "source": [
    "* Z-direction: Always 0, since neither body moves along this axis.\n",
    "* Y-direction (green): Constant at ≈ $1.8 \\times 10^29$ $kg \\times m/s$. This reflects the sum of Earth and Sun momenta. Individually, they fluctuate in opposite ways, but together their total remains conserved.\n",
    "* X-direction: Oscillations of Earth and Sun cancel exactly, producing a total near 0.\n",
    "* Conclusion: The total system momentum is conserved in all directions, consistent with physical law."
   ]
  },
  {
   "cell_type": "markdown",
   "id": "3aac511a-bbec-4ced-8282-e9f90983db0f",
   "metadata": {},
   "source": [
    "#### Graph #11 - Earth and Sun Velocity Diagram\n",
    "![Velocity Graph](../assets/img/Lab-2/Run-3/2-3-Velocity.png)"
   ]
  },
  {
   "cell_type": "markdown",
   "id": "d93ac55d-0c03-4688-9411-9858a8f99c30",
   "metadata": {},
   "source": [
    "* Sun: Velocities in x, y, z are nearly 0, as expected given its massive size. Momentum changes are visible, but the corresponding velocities remain vanishingly small.\n",
    "* Earth: Velocities follow the same patterns as its momentum, since $p = m \\times v$. The graphs confirm that velocity and momentum are directly proportional for Earth, and the paths match exactly what was seen in Simulation #2."
   ]
  },
  {
   "cell_type": "markdown",
   "id": "2dab8c0a-5c29-44cc-b77d-765d46dbe44e",
   "metadata": {},
   "source": [
    "#### Graph #12 - Earth and Sun Position Diagram\n",
    "![Position Graph](../assets/img/Lab-2/Run-3/2-3-Position.png)"
   ]
  },
  {
   "cell_type": "markdown",
   "id": "22590d11-586d-43cf-9ba2-f85075ea57e8",
   "metadata": {},
   "source": [
    "* Earth:\n",
    "    * X-position begins far right, decreases toward 0, then reverses direction—matching the velocity graph where Earth slows, stops, and accelerates back the other way.\n",
    "    * Y-position rises positively, then reverses into negative territory, before rising again—mirroring Earth’s y-velocity, which shifts from positive to 0 to negative.\n",
    "    * Z-position remains at 0, consistent with no z-motion.\n",
    "* Sun: Position lines are essentially flat due to its minimal velocity. Its “wobble” exists but is too small to be visible on the graph.\n",
    "* Interpretation: Position graphs behave as expected since velocity is the derivative of position.\n",
    "\n",
    "#### Conclusion\n",
    "&emsp;&emsp;By increasing the Sun’s mass, the gravitational force on Earth strengthens, producing more pronounced elliptical motion and larger momentum magnitudes. Momentum graphs confirm equal and opposite interactions between Earth and Sun, while total momentum remains conserved in all directions. Velocity and position diagrams support these findings, showing changes consistent with the gravitational force’s inverse-square relationship with distance.\n",
    "\n",
    "&emsp;&emsp;The print statement output confirms that Earth completes 16 full orbits during the simulated timespan. This matches the velocity graph, where 16 cycles can be counted from the peaks and dips in the Earth’s motion. Thus, both graphical and numerical outputs align, validating the simulation."
   ]
  },
  {
   "cell_type": "markdown",
   "id": "16781264-7e48-4865-b2c1-137ac4b86c0a",
   "metadata": {},
   "source": [
    "## Simulation #4 - Binary System Run\n",
    "![Simulation](../assets/gifs/Lab-2/Earth_Orbiting_Sun_4.gif)\n",
    "### Overview\n",
    "**Setup**:\n",
    "* For this simulation, the Earth’s mass was modified to be equivalent to the Sun’s mass ($1.989 \\times 10^{30} kg$). This results in a dramatic change in the orbital dynamics: instead of the Earth orbiting the Sun, both celestial bodies orbit around each other.\n",
    "* From the perspective of gravitational physics, this makes sense. The gravitational force is given by $F = \\frac {G \\times m_1 \\times m_2} {r^2}$, so by increasing the Earth’s mass to equal that of the Sun, the gravitational force increases proportionally. Additionally, since momentum is defined as $p=mv$, the peak momentum values are expected to be greater because the Earth’s increased mass scales its momentum directly."
   ]
  },
  {
   "cell_type": "markdown",
   "id": "55101e6c-a18d-46dc-85f4-1a14df778a63",
   "metadata": {},
   "source": [
    "**Observation**:\n",
    "* With the the Earth’s mass now equal to 1.989e30 kg, the Earth and Sun now orbit around one another. This means that the Gravitational Force must have increased by direct proportion. Based on the equation, $F = \\frac {G \\times m_1 \\times m_2} {r^2}$, if we increased the mass of a singular object, the Gravitational Force must have increased since the Force is directly proportional to a singular mass’s object. This also means that the peak of the Momentum must be greater, as the Momentum is also directly proportional to a singular object’s mass by the equation $P = mv$.\n",
    "* Furthermore, the simulation output indicates that the orbital period has decreased to about 139 days per orbit, compared to the 365 day period of the real Earth–Sun system. This result makes sense: by equalizing the Earth and Sun’s masses, the gravitational interaction strengthens, pulling both bodies into faster mutual orbits."
   ]
  },
  {
   "cell_type": "markdown",
   "id": "1cd7d9e3-886d-4095-8b53-4e548b6b529a",
   "metadata": {},
   "source": [
    "### Graphs"
   ]
  },
  {
   "cell_type": "markdown",
   "id": "d8f378b0-77bf-4c60-8fd6-55ede7f54097",
   "metadata": {},
   "source": [
    "#### Graph #13 - Earth and Sun Momentum Diagram\n",
    "![Momentum Graph](../assets/img/Lab-2/Run-4/2-4-Momentum.png)"
   ]
  },
  {
   "cell_type": "markdown",
   "id": "093d189e-290e-4c78-b69d-5930ae00e5e9",
   "metadata": {},
   "source": [
    "&emsp;&emsp;The momentum components for both the Earth and the Sun show repeating oscillatory patterns of increasing and decreasing values in both the x- and y-directions. This behavior is consistent with the definition of momentum: $p=mv$, where velocity, $v$, is the changing variable. Because the system now completes many more orbits in the same time span, the momentum cycles reflect the constant switching of direction as the two bodies orbit around their common center of mass.\n",
    "* Sun’s z-momentum (yellow) & Earth’s z-momentum (cyan): These remain constant at 0 kg·m/s, which makes sense since no motion occurs in the z-direction.\n",
    "* x- and y-momentum (Earth vs. Sun): They mirror each other. When the Earth’s x-momentum is negative, the Sun’s is positive, and vice versa. In the y-direction, both fluctuate around values that don’t perfectly cancel due to the overall upward drift of the system.\n",
    "The simulation confirms that the gravitational pull is equally effective in both directions, causing the Sun and Earth to loop around each other rather than one body remaining relatively stationary."
   ]
  },
  {
   "cell_type": "markdown",
   "id": "a21796dc-ee18-4e12-ac78-a02df8b907ed",
   "metadata": {},
   "source": [
    "#### Graph #14 - Total Momentum Diagram\n",
    "![Momentum Graph](../assets/img/Lab-2/Run-4/2-4-Total-Momentum.png)"
   ]
  },
  {
   "cell_type": "markdown",
   "id": "c451062b-98e2-4cd6-aaa1-c862e0c01ae3",
   "metadata": {},
   "source": [
    "This graph sums the x-, y-, and z-components of the Earth and Sun’s momenta:\n",
    "* x-momentum (blue): Cancels out to 0 $kg \\times m/s$ because Earth and Sun move in opposite directions.\n",
    "* z-momentum (cyan): Constantly 0 $kg \\times m/s$, since no z-motion occurs.\n",
    "* y-momentum (green): Remains approximately constant at ~$6 \\times 10^{34}$ kg·m/s. This arises because the Earth’s y-momentum sometimes dips negative, but the Sun’s y-momentum always remains positive and larger, producing a net positive total.\n",
    "\n",
    "This result aligns with the physical scenario: while the x-motion cancels, the system as a whole drifts upward in the y-direction."
   ]
  },
  {
   "cell_type": "markdown",
   "id": "8758a9be-f382-40f5-adb0-a41b00b2ba3d",
   "metadata": {},
   "source": [
    "#### Graph #15 - Earth and Sun Velocity Diagram\n",
    "![Velocity Graph](../assets/img/Lab-2/Run-4/2-4-Velocity.png)"
   ]
  },
  {
   "cell_type": "markdown",
   "id": "94b0f7b8-6924-433b-907b-7d9229e97edb",
   "metadata": {},
   "source": [
    "As expected, the velocity graph mirrors the momentum graph but on a smaller scale (since $p=mv$ and mass is constant).\n",
    "* x-velocity: Alternates between positive and negative values, showing the oscillatory motion in left–right movement.\n",
    "* y-velocity: Generally remains positive, with fluctuations into negative values for the Earth, showing the system’s overall upward drift.\n",
    "* z-velocity: Constant at 0 m/s, consistent with no z-motion.\n",
    "\n",
    "This confirms that the Sun and Earth move around each other, but also as a system drift upward in the positive y-direction over time."
   ]
  },
  {
   "cell_type": "markdown",
   "id": "417c4a1a-fe8a-4a07-a790-7ba6794f1a95",
   "metadata": {},
   "source": [
    "#### Graph #16 - Earth and Sun Position Diagram\n",
    "![Position Graph](../assets/img/Lab-2/Run-4/2-4-Position.png)"
   ]
  },
  {
   "cell_type": "markdown",
   "id": "11bbf840-0ac3-466d-82b0-45df01ce8e1a",
   "metadata": {},
   "source": [
    "The position graph reflects the integration of the velocity data:\n",
    "* x-position: Oscillates within a set range, consistent with left–right looping motion.\n",
    "* y-position: Shows a repeating pattern but with a steady upward trend, confirming the drift of the entire system.\n",
    "* z-position: Remains at 0 m, as neither body moves toward or away from the viewer.\n",
    "\n",
    "Since velocity is the derivative of position, the position curves correctly reflect the slopes shown in the velocity graph."
   ]
  },
  {
   "cell_type": "markdown",
   "id": "63173c68-496d-4904-bc3a-abda78bd8c54",
   "metadata": {},
   "source": [
    "# Conclusion\n",
    "\n",
    "At the beginning of this lab, we were tasked with manipulating variables for the Earth–Sun system to generate four different simulations: one circular orbit, two elliptical orbits, and one binary run. Each scenario illustrated the effects of gravitational force and the momentum principle on orbital dynamics.\n",
    "* Circular Run: Using the given initial parameters, the Earth completed a single circular orbit around the Sun in roughly a year's time.\n",
    "* Elliptical Run #1: By increasing the Earth’s initial velocity in the y-direction to $1.3 \\times 2.978 \\times 10^4$ m/s, the Earth followed a much wider orbital path. The increased velocity allowed Earth to resist the Sun’s pull more strongly, increasing orbital radius. This weakened gravitational force ($F∝\\frac{1}{r^2}$) and prevented a full orbit within a year.\n",
    "* Elliptical Run #2: Increasing the Sun’s mass to $5×10^{30}kg$ pulled the Earth into a tighter orbit. This increased gravitational force shortened the orbital period, resulting in 3 orbits per year.\n",
    "* Binary Run: Equalizing the masses of Earth and Sun caused them to orbit around each other, as their gravitational influence became symmetric. The orbital period decreased to ~139 days, producing 2 full orbits in a year.\n",
    "\n",
    "**Graphical Analysis**\n",
    "* The diagrams and print statements provided deeper insights into the system:\n",
    "    * Momentum Diagrams: Showed how momentum ($p=mv$) varied for both Earth and Sun. For individual bodies, momentum oscillated as direction changed; when summed, the total momentum remained constant, matching physical expectations.\n",
    "    * Total Momentum Graphs: Confirmed conservation of momentum. While the x- and z-components canceled, the y-component remained a constant nonzero value, reflecting the system’s overall upward drift.\n",
    "    * Velocity Graphs: Mirrored the momentum graphs on a smaller scale (since $p=mv$). They highlighted speed and directional changes in real time.\n",
    "    * Position Graphs: Illustrated the orbital paths directly. As expected, velocity acted as the derivative of position, while slopes in the position graph could be used to estimate instantaneous velocity.\n",
    "    * Print Statements: Counted completed orbits, verifying orbital periods for each simulation (1, <1, 3, and 2 orbits depending on conditions).\n",
    "\n",
    "**Key Learnings**\n",
    "Through this lab, we gained both physical and computational insights:\n",
    "1. Modeling Gravitational Force: Learned how to simulate gravitational interaction between two celestial bodies using radius, force, momentum, and velocity updates.\n",
    "2. Time Progression: Incorporated time steps ($dt=3600$ s) to track orbital motion over years.\n",
    "3. Unit Vectors: Applied $\\hat{r}$ in the gravitational force equation to calculate directional force.\n",
    "4. Initial Velocity Calculation: Determined orbital velocity by dividing orbital circumference by period.\n",
    "5. Momentum Conservation: Observed that the combined momentum of the system remains constant, even as individual bodies oscillate in their momentum.\n",
    "\n",
    "&emsp;&emsp;In all, this lab demonstrated how relatively small adjustments to initial parameters (velocity, mass) can drastically change orbital mechanics, while also reinforcing fundamental physics principles like conservation of momentum, gravitational force, and the relationship between position, velocity, and time.\n",
    "\n",
    "## Want to Run it Yourself?\n",
    "You can interact with this simulation directly in your browser using [GlowScript VPython](https://www.glowscript.org/).\n",
    "* Click the link below to open the code in GlowScript.\n",
    "* Press Run to see the simulation.\n",
    "* No installation is required — everything runs in your browser.\n",
    "[Run simulation #1 on GlowScript](https://www.glowscript.org/#/user/Tyrese_G/folder/Physics-Labs/program/Lab-2-1)\n",
    "[Run simulation #2 on GlowScript](https://www.glowscript.org/#/user/Tyrese_G/folder/Physics-Labs/program/Lab-2-2)\n",
    "[Run simulation #3 on GlowScript](https://www.glowscript.org/#/user/Tyrese_G/folder/Physics-Labs/program/Lab-2-3)\n",
    "[Run simulation #4 on GlowScript](https://www.glowscript.org/#/user/Tyrese_G/folder/Physics-Labs/program/Lab-2-4)"
   ]
  }
 ],
 "metadata": {
  "kernelspec": {
   "display_name": "Python 3 (ipykernel)",
   "language": "python",
   "name": "python3"
  },
  "language_info": {
   "codemirror_mode": {
    "name": "ipython",
    "version": 3
   },
   "file_extension": ".py",
   "mimetype": "text/x-python",
   "name": "python",
   "nbconvert_exporter": "python",
   "pygments_lexer": "ipython3",
   "version": "3.12.3"
  }
 },
 "nbformat": 4,
 "nbformat_minor": 5
}
