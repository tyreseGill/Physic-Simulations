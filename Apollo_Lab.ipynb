{
 "cells": [
  {
   "cell_type": "markdown",
   "id": "7d1b0f54-5bd3-40b3-b70f-6868301810b7",
   "metadata": {},
   "source": [
    "# Lab #7\n",
    "**Group Members**: Tyrese, Liam\n",
    "\n",
    "**Class**: Physics\n",
    "\n",
    "**Originally Submitted**: November 3, 2022\n",
    "\n",
    "## Problem Statement\n",
    "&emsp;&emsp;We were tasked with developing a program in VPython that would simulate our real-world Earth-Moon system. After doing so, we had to incorporate a spacecraft positioned 3 Earth radii from the Earth itself. Next, we had to change the initial velocity of the space in such a way that it would make contact with the Moon in a manner much like that of the Apollo 11 landing. Lastly, we had to add a graph focusing on a physical aspect of our simulation."
   ]
  },
  {
   "cell_type": "markdown",
   "id": "7c76c164-c8d1-4310-ab6e-804c1fcc8f50",
   "metadata": {},
   "source": [
    "## Results and Discussion"
   ]
  },
  {
   "cell_type": "markdown",
   "id": "dbca9ec8-e45f-4288-91a4-4507ccc35ade",
   "metadata": {},
   "source": [
    "### Simulation Model"
   ]
  },
  {
   "cell_type": "code",
   "execution_count": 1,
   "id": "e056220f-5f68-4bb3-8ecc-640a6dd23311",
   "metadata": {},
   "outputs": [
    {
     "name": "stderr",
     "output_type": "stream",
     "text": [
      "/home/gillty/Physic_Labs/jupyter_env/lib/python3.12/site-packages/vpython/__init__.py:1: UserWarning: pkg_resources is deprecated as an API. See https://setuptools.pypa.io/en/latest/pkg_resources.html. The pkg_resources package is slated for removal as early as 2025-11-30. Refrain from using this package or pin to Setuptools<81.\n",
      "  from pkg_resources import get_distribution, DistributionNotFound\n"
     ]
    },
    {
     "data": {
      "text/html": [
       "<div id=\"glowscript\" class=\"glowscript\"></div>"
      ],
      "text/plain": [
       "<IPython.core.display.HTML object>"
      ]
     },
     "metadata": {},
     "output_type": "display_data"
    },
    {
     "data": {
      "application/javascript": [
       "if (typeof Jupyter !== \"undefined\") { window.__context = { glowscript_container: $(\"#glowscript\").removeAttr(\"id\")};}else{ element.textContent = ' ';}"
      ],
      "text/plain": [
       "<IPython.core.display.Javascript object>"
      ]
     },
     "metadata": {},
     "output_type": "display_data"
    },
    {
     "data": {
      "text/html": [
       "<div id=\"glowscript\" class=\"glowscript\"></div>"
      ],
      "text/plain": [
       "<IPython.core.display.HTML object>"
      ]
     },
     "metadata": {},
     "output_type": "display_data"
    },
    {
     "data": {
      "application/javascript": [
       "if (typeof Jupyter !== \"undefined\") { window.__context = { glowscript_container: $(\"#glowscript\").removeAttr(\"id\")};}else{ element.textContent = ' ';}"
      ],
      "text/plain": [
       "<IPython.core.display.Javascript object>"
      ]
     },
     "metadata": {},
     "output_type": "display_data"
    }
   ],
   "source": [
    "from vpython import *\n",
    "\n",
    "simulation = canvas()"
   ]
  },
  {
   "cell_type": "markdown",
   "id": "b679e6c9-d7a2-4cdb-9087-42a8f518f0a4",
   "metadata": {},
   "source": [
    "&emsp;As the simulation shows above, our spacecraft initially travels upwards at our specified angle of 30° and goes on until it succumbs to the pull of the Moon’s gravity and touches down. This was to be expected since the position of the spacecraft at the beginning of the simulation was 3 Earth radii from the position of the Earth (Note: Keep in mind that the spacecraft does not initially start on the Earth’s surface – it merely appears that way due to its scaled up radius.). Taking this into account, along with the spacecraft’s high initial velocity, our spacecraft was able to momentarily weaken the Earth’s gravitational pull by putting more distance between them. This can be shown since the Gravitational Force is inversely proportional to the distance between the two objects. Thus, the spacecraft was able to travel as far out as it did without being pulled back to Earth not long after its departure.\n",
    "\n",
    "&emsp;Moreover, the fact that the Moon was so close to the spacecraft’s course of travel made it possible for it to land. This is because gravitational force, as previously mentioned, grows weaker the more distance you put between two objects. This is attributable to the location of the variable $r$ in the denominator of the gravitational formula. Therefore: $F ∝ \\frac {1}{r}$, meaning that the Force of Gravity is inversely proportional to the distance R.In other words, the less distance between two objects, the stronger the pull of gravity between those two objects. In this case, the spacecraft is experiencing gravitational force from two sources: the Earth and the Moon. As a result, these two objects are essentially carrying out a game of tug and war with our spacecraft – with the one possessing the greater gravitational force claiming victory when the spacecraft gets quite close to the Moon. Knowing this, our end result makes sense. As the spacecraft’s velocity allows it to temporarily escape the Earth, we can see how the Earth’s gravity is still influencing the path of the spacecraft. This is understandable given that the Earth possesses a mass of 5.972e24 kg in comparison to the Moon’s much lighter 7.348e22 kg. Given this disparity, the gravitational force of the Earth is going to have a much larger effect on the spacecraft than the Moon initially. Another look at the gravitational formula shows that the mass of the objects in question go in the numerator. Thus, the larger the mass, the greater the gravitational force. Consequently, the spacecraft initially makes a wide arch as the pull of the Earth is making it turn back around. However, once the spacecraft is within a certain range of the Moon, the gravitational force of the Moon wields a much greater influence on the spacecraft and begins reeling it in until it reaches its surface."
   ]
  },
  {
   "cell_type": "code",
   "execution_count": 2,
   "id": "8831775e-1584-4d94-a560-cac99f5b1193",
   "metadata": {},
   "outputs": [],
   "source": [
    "# Launch angle of spacecraft\n",
    "theta = 30 * (pi / 180)\n",
    "\n",
    "# Universal gravitational constant\n",
    "G = 6.7e-11"
   ]
  },
  {
   "cell_type": "markdown",
   "id": "cd7fdc0c-1204-404d-af01-19c6e7c5e6ff",
   "metadata": {},
   "source": [
    "&emsp;&emsp;Objects aside, we also define angle *theta* and gravitational constant *G*. Their placement here is intentional since these variables are required when setting up certain attributes of our objects."
   ]
  },
  {
   "cell_type": "code",
   "execution_count": 3,
   "id": "fe3ee6e8-e132-4dee-a1dd-35a4a27f4453",
   "metadata": {
    "scrolled": true
   },
   "outputs": [],
   "source": [
    "earth = sphere(pos=vec(0, 0, 0 ),                            # Positions Earth at origin\n",
    "               mass = 5.972e24,                              # Earth mass (kg)\n",
    "               radius = 6 * 6.371e6,                         # Scaled Earth radius (m) for visibility\n",
    "               v = vec(0, 0, 0),                             # Earth initially stationary\n",
    "               texture = textures.earth)                    \n",
    "                \n",
    "moon = sphere(pos=vec(3.844e8, 0, 0),                         # Moon at average Earth-Moon distance (m)\n",
    "              mass = 7.348e22,                                # Moon mass (kg)\n",
    "              radius = 6 * 1.7371e6,                          # Scaled Moon Radius (m) for visibility\n",
    "              v = vec(0, sqrt((G * earth.mass) / 3.844e8), 0),  # Moon orbital velocity (m/s)\n",
    "              color=color.white,\n",
    "              make_trail = True)\n",
    "              \n",
    "spacecraft = sphere(pos=vec(3 * 6.371e6, 0, 0),               # Positions spacecraft closer to Earth's surface\n",
    "                    mass = 20000,                             # Mass of our spacecraft (kg)\n",
    "                    radius = 2 * 1.7371e6,                    # Scaled radius for visibility\n",
    "                    color=color.red,\n",
    "                    make_trail = True)"
   ]
  },
  {
   "cell_type": "markdown",
   "id": "29a1a90b-d3a9-416d-bf72-56568abc97da",
   "metadata": {},
   "source": [
    "&emsp;&emsp;To start, we created the objects in our simulation representative of our Earth-Moon-spacecraft system. A sphere representative of Earth takes position at the center of our simulation since it possesses the most mass and thus will be the center of gravity acting on the surroundings. Next, we then created another sphere, this one representing the Moon. And then we create yet another sphere to behave as the spacecraft for our simulation. An important thing to note for these objects is that the radius of all three have been scaled up for the sake of visibility."
   ]
  },
  {
   "cell_type": "code",
   "execution_count": 4,
   "id": "c711c43b-f2f2-4a80-ab56-ba546104445e",
   "metadata": {},
   "outputs": [],
   "source": [
    "# Initial spacecraft velocity (magnitude 6330 m/s at given launch angle)\n",
    "spacecraft.v = 6330 * vec(cos(theta), sin(theta), 0)"
   ]
  },
  {
   "cell_type": "markdown",
   "id": "62733e02-e5d2-459a-8d75-fb727e45b519",
   "metadata": {},
   "source": [
    "&emsp;&emsp;Here, we calculate the velocity attribute for our spacecraft. Notice that here we specifically modified the velocity to be 6330 m/s. And we chose to launch it at an angle of 30 degrees. In order to achieve this launch angle, the initial velocity in the x direction would be multiplied by *cos(theta)*, and the initial velocity in the y direction would be multiplied by *sin(theta)*. And z is set to be multiplied by 0, as we are focusing on a 2-dimensional plane. Overall, multiplying by cos, and sin respectively allows us to divide the initial velocity into vector components so that the position will be updated in the x and y directions respectively, thus simulating a launch angle of 30 degrees. "
   ]
  },
  {
   "cell_type": "code",
   "execution_count": 5,
   "id": "41154dcb-27b2-41bf-bbdc-eacd00f8e044",
   "metadata": {},
   "outputs": [],
   "source": [
    "# Initial momenta\n",
    "moon.p = moon.mass * moon.v\n",
    "earth.p = -moon.p\n",
    "spacecraft.p = spacecraft.mass * spacecraft.v\n",
    "\n",
    "# Simulation parameters\n",
    "t = 0 \n",
    "dt = 60\n",
    "myrate = 1500"
   ]
  },
  {
   "cell_type": "markdown",
   "id": "92f29577-423f-4785-8e78-e153c53f14c6",
   "metadata": {},
   "source": [
    "&emsp;&emsp;Above we calculate the momentum for the Earth, Moon, and spacecraft respectively. The formula for momentum is: $p = mv$. We apply this formula to the Moon and spacecraft respectively. As for calculating the Earth’s momentum, we simply make it equivalent to the negative result of the Moon’s momentum since we can understand that they have an equal but opposite pull on each other by Newton’s Third Law."
   ]
  },
  {
   "cell_type": "markdown",
   "id": "9339e3a6-6c1c-407f-89b8-39dee29f0f52",
   "metadata": {},
   "source": [
    "### Kinetic Energy Graph"
   ]
  },
  {
   "cell_type": "code",
   "execution_count": 6,
   "id": "1bf3b4e9-166b-4d9f-97b0-281c46e3f3f1",
   "metadata": {},
   "outputs": [],
   "source": [
    "# Plots kinetic energy graph over time\n",
    "gr_ke = graph(title=' Kinetic Energy Diagram ',\n",
    "              xtitle =' Time (s)',\n",
    "              ytitle=' Joules (J) ')\n",
    "p_plot_spacecraft = gcurve(graph=gr_ke, color=color.purple )"
   ]
  },
  {
   "cell_type": "code",
   "execution_count": 7,
   "id": "8a67ad63-1198-4478-acab-cf07df14d221",
   "metadata": {},
   "outputs": [
    {
     "data": {
      "text/html": [
       "<div id=\"glowscript\" class=\"glowscript\"></div>"
      ],
      "text/plain": [
       "<IPython.core.display.HTML object>"
      ]
     },
     "metadata": {},
     "output_type": "display_data"
    },
    {
     "data": {
      "application/javascript": [
       "if (typeof Jupyter !== \"undefined\") { window.__context = { glowscript_container: $(\"#glowscript\").removeAttr(\"id\")};}else{ element.textContent = ' ';}"
      ],
      "text/plain": [
       "<IPython.core.display.Javascript object>"
      ]
     },
     "metadata": {},
     "output_type": "display_data"
    }
   ],
   "source": [
    "graph = canvas(background=color.white)"
   ]
  },
  {
   "cell_type": "markdown",
   "id": "02bc37ea-400a-4608-9282-092cf0132dfd",
   "metadata": {},
   "source": [
    "&emsp;The graph above displays the kinetic energy of the spacecraft as time progresses. Initially, the kinetic energy of the spacecraft decreases. This is to be expected given that the formula associated with kinetic energy states that $KE = \\frac{1}{2} mv^2$. Taking into account that the mass of the spacecraft is constant throughout whereas velocity is constantly changing. For context, velocity is calculated via the equation $v = \\frac{p}{m}$ where any changes are attributed to the spacecraft’s momentum which itself is reliant on force via the equation $Δp = FΔt = p_f - p_i$. We can see that the net force of the spacecraft is dependent on the values regarding the gravitational force of the Moon and Earth. As mentioned earlier, the gravitational force of either of these objects increases the closer you get to them. Therefore, as the gravitational force (and thereby the momentum) of either the Moon or Earth become increasingly strong, the velocity will also increment toward the direction of the object in question. Because the Earth is so heavy and close relative to the Moon in our system, its gravitational force will have the most influence over the spacecraft initially, thereby slowing the velocity down in the x, and y direction respectively. As a result, the velocity will decrease dramatically at first since it is fighting against the pull of the Earth’s gravity. This is reflected in our graph where the kinetic energy plummets downward.\n",
    "\n",
    "&emsp;Then, as the spacecraft leaves behind the Earth and its gravitational force becomes weaker and the velocity will start decreasing much less rapidly. In turn, the kinetic energy should exhibit this same behavior as the kinetic energy is directly proportional to the velocity squared ($KE ∝ v^2$). This is shown in the graph where the graph switches from decreasing in a rapid, vertical fashion to a slower, more horizontal one.\n",
    "However, upon getting close enough to experience a significant portion of the Moon’s gravitational pull, the spacecraft begins to increase in velocity. This makes sense since the closer the spacecraft is to the Moon, the farther away the spacecraft is from the Earth. Therefore, this leads to a greater gravitational force from the Moon on the spacecraft, and a smaller gravitational force from the Earth on the spacecraft by inverse proportion ($F ∝ \\frac{1}{r}$). And this, therefore leads to a greater the momentum by direct proportion ($p_f ∝ F$). And the velocity in turn also increases by direct proportion to the Momentum ($p_f ∝ v$)."
   ]
  },
  {
   "cell_type": "markdown",
   "id": "8d4bbfab-1a13-4aae-8a37-ee304f96c710",
   "metadata": {},
   "source": [
    "## Simulation Execution"
   ]
  },
  {
   "cell_type": "code",
   "execution_count": 8,
   "id": "d0e619e3-7da3-4aa0-95ec-281ee9a6c9ff",
   "metadata": {},
   "outputs": [
    {
     "name": "stdout",
     "output_type": "stream",
     "text": [
      "Spacecraft has touched the Moon at time: 4 days, 1 hour, 17 minutes, and 59 seconds.\n"
     ]
    }
   ],
   "source": [
    "while True:\n",
    "    rate(myrate)    # Limits refresh rate for smoother animation\n",
    "    \n",
    "    # Relative position vectors\n",
    "    r_earth_to_moon = earth.pos - moon.pos\n",
    "    r_earth_to_spacecraft = earth.pos - spacecraft.pos\n",
    "    r_moon_to_spacecraft = moon.pos - spacecraft.pos\n",
    "    \n",
    "    # Gravitational forces (Newton’s Law of Gravitation)\n",
    "    f_earth_to_moon = (- G * earth.mass * moon.mass)/ r_earth_to_moon.mag ** 2 * r_earth_to_moon.hat\n",
    "    f_earth_to_spacecraft = (- G * earth.mass * spacecraft.mass) / r_earth_to_spacecraft.mag ** 2 * r_earth_to_spacecraft.hat\n",
    "    f_moon_to_spacecraft = (- G * moon.mass * spacecraft.mass) / r_moon_to_spacecraft.mag ** 2 * r_moon_to_spacecraft.hat\n",
    "    f_net_spacecraft = f_earth_to_spacecraft + f_moon_to_spacecraft\n",
    "\n",
    "    # Update momenta (p = p + F*dt)\n",
    "    earth.p += f_earth_to_moon * dt\n",
    "    moon.p -= f_earth_to_moon * dt\n",
    "    spacecraft.p -= f_net_spacecraft * dt\n",
    "    \n",
    "    # Kinetic energy of spacecraft\n",
    "    ke_spacecraft = spacecraft.p.mag2 / (2 * spacecraft.mass)\n",
    "    \n",
    "    # Update velocities (v = p / m)\n",
    "    earth.v = earth.p / earth.mass \n",
    "    moon.v = moon.p / moon.mass\n",
    "    spacecraft.v = spacecraft.p / spacecraft.mass\n",
    "\n",
    "    # Update positions (r = r + v*dt)\n",
    "    earth.pos += earth.v * dt\n",
    "    moon.pos += moon.v * dt \n",
    "    spacecraft.pos += spacecraft.v * dt\n",
    "    \n",
    "    # Plot KE vs time\n",
    "    p_plot_spacecraft.plot(t, ke_spacecraft)\n",
    "    \n",
    "    # Checks when spacecraft has landed\n",
    "    if mag(spacecraft.pos - moon.pos) <= moon.radius:\n",
    "        # Converts time from seconds to days, hours, minutes, seconds\n",
    "        days = t / (60 * 60 * 24)\n",
    "        hrs = (days - int(days)) * 24\n",
    "        mins = (hrs - int(hrs)) * 60\n",
    "        secs = (mins - int(mins)) * 60\n",
    "        \n",
    "        # Converts time metrics to integers\n",
    "        days = int(days)\n",
    "        hrs = int(hrs)\n",
    "        mins = int(mins)\n",
    "        secs = int(secs)\n",
    "        \n",
    "        print(f\"Spacecraft has touched the Moon at time: {days} days, {hrs} hour, {mins} minutes, and {secs} seconds.\")\n",
    "        break\n",
    "\n",
    "    # Increment time\n",
    "    t = t + dt"
   ]
  },
  {
   "cell_type": "markdown",
   "id": "a89c0cca-2f54-47b4-a17b-bab24427e633",
   "metadata": {},
   "source": [
    "&emsp;&emsp;The code above represents the variables to be constantly updated over the course of time for the simulation. We calculate the distance between the three objects that make up our system (the Earth, Moon, and spacecraft). We then plug these values into their respective gravitational force calculation using the formula: $F = \\frac{(-G \\times m_1 \\times m_2)} {r^2} $. Subsequently, we find the net force acting on our spacecraft by adding together the sum total between the gravitational force between the Earth and Moon respectively with regard to the spacecraft.\n",
    "\n",
    "&emsp;&emsp;Afterwards, we go on to calculate the momentum of the three objects within our system using the formula: $Δp = F \\times Δt$. For the Earth’s momentum, we add onto the previous value rather than add due to the Earth’s momentum being equal and opposite to the momentum of the Moon. Therefore, we subtract from the previous values for the momentums of the Moon and spacecraft. This is due to the fact that the Forces from the Moon on the Earth, and the Earth on the Moon are respectively equal but opposite to each other. \n",
    "\n",
    "&emsp;&emsp;After having acquired the momentum of our spacecraft, we are now able to calculate its kinetic energy. We do so by using $KE = \\frac{p^2} {2 \\times m}$ which we derived from the formula: $KE = \\frac{1}{2} mv^2$. We will use the values calculated to plot on our kinetic energy graph.\n",
    "\n",
    "&emsp;&emsp;At this point, we begin updating the velocity of our objects for the following run of our while loop. We did this by deriving the formula $v = \\frac{p}{m}$ from $p=m \\times v$. Once we get this out of the way, we go on to update the position of the objects in our system with our newly obtained velocity by using the position update formula: $v = \\frac {Δx}{Δt} $ → $v = \\frac {x_f - x_i} {Δt} $ → $x_f - x_i = v_Δt$ → $x_f =  x_i + v_{Δt} $. Lastly, we plot the kinetic energy calculation received earlier and update time in preparation for the following run of the while loop."
   ]
  },
  {
   "cell_type": "markdown",
   "id": "5c317e8c-c3b1-40a3-a5a8-4196f7f7edb3",
   "metadata": {},
   "source": [
    "## Conclusion\n",
    "&emsp;&emsp;In conclusion, we were asked to design a program intended to simulate a system consisting of the Earth, Moon, and a spacecraft and modify the angle and velocity of said spacecraft in such a way that it would *land* on the Moon. To do so, we raised the velocity of our spacecraft and angled it in a way so that it would be on a collision course with the Moon. \n",
    "\n",
    "### What We Learned\n",
    "1. How to calculate the net force acting on an object such as a spacecraft by determining the gravitational forces affecting it and adding them together.\n",
    "2. The relevance of mass and distance when it comes to determining which celestial body is more likely to pull in an object such as a spacecraft.\n",
    "3. The importance of the velocity and angle of the spacecraft in determining the outcome as well.\n",
    "    - By modifying the velocity and angle in such a way that it would be able to momentarily weaken the gravitational grasp of the Earth by increasing the distance between the two objects while strengthening that of the Moon (by decreasing the distance between the two objects), our spacecraft was able to make a successful landing on the Moon.\n",
    "4. How to apply proportional relationships to understand physical systems in relation to fundamental physics principles.   "
   ]
  }
 ],
 "metadata": {
  "kernelspec": {
   "display_name": "Python 3 (ipykernel)",
   "language": "python",
   "name": "python3"
  },
  "language_info": {
   "codemirror_mode": {
    "name": "ipython",
    "version": 3
   },
   "file_extension": ".py",
   "mimetype": "text/x-python",
   "name": "python",
   "nbconvert_exporter": "python",
   "pygments_lexer": "ipython3",
   "version": "3.12.3"
  }
 },
 "nbformat": 4,
 "nbformat_minor": 5
}
