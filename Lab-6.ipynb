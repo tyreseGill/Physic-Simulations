{
 "cells": [
  {
   "cell_type": "markdown",
   "id": "eb283f33-8095-4dac-8361-bd006d191c67",
   "metadata": {},
   "source": [
    "# Lab #6 Report\n",
    "\n",
    "## Problem Statement\n",
    "&emsp;&emsp;We were tasked with simulating the projectile motion of a ball which is under the influence of gravity exclusively for one run with an initial velocity when it’s launched at a specific angle. After this we will be calculating the Kinetic Energy, Potential Energy, and Total (Mechanical) Instantaneous Energy with respect to time, and graphing all of these under one graph.\n",
    "\n",
    "&emsp;&emsp;For the second run we will be doing, we will essentially be adding a quadratic drag force acting horizontally against our system of the second ball. Then we will be graphing its Kinetic Energy, Potential Energy, and Mechanical Energy under the same graph as the first ball. In addition to this, the Work will also be calculated for the two scenarios as well under one graph, with respect to all the Forces acting on the systems, and then we will need to identify the relationship between this and the Change in Kinetic Energy, which will also be calculated and graphed as well. So, we will have a graph with our Kinetic, Potential, and Mechanical Energy for each scenario. And then we will have two separate graphs for the Change in Kinetic Energy, along with the Work for both scenarios as well. And finally, we will also be discussing the effect of drag on our second run.\n"
   ]
  },
  {
   "cell_type": "markdown",
   "id": "7777112a-a8c6-4ec4-ba0c-69b40a062057",
   "metadata": {},
   "source": [
    "## The Code"
   ]
  },
  {
   "cell_type": "code",
   "execution_count": 1,
   "id": "b546ecc5-f12e-4ecd-94fe-434ecb1537ec",
   "metadata": {},
   "outputs": [
    {
     "name": "stderr",
     "output_type": "stream",
     "text": [
      "/home/gillty/Physic_Labs/jupyter_env/lib/python3.12/site-packages/vpython/__init__.py:1: UserWarning: pkg_resources is deprecated as an API. See https://setuptools.pypa.io/en/latest/pkg_resources.html. The pkg_resources package is slated for removal as early as 2025-11-30. Refrain from using this package or pin to Setuptools<81.\n",
      "  from pkg_resources import get_distribution, DistributionNotFound\n"
     ]
    },
    {
     "data": {
      "text/html": [
       "<div id=\"glowscript\" class=\"glowscript\"></div>"
      ],
      "text/plain": [
       "<IPython.core.display.HTML object>"
      ]
     },
     "metadata": {},
     "output_type": "display_data"
    },
    {
     "data": {
      "application/javascript": "if (typeof Jupyter !== \"undefined\") { window.__context = { glowscript_container: $(\"#glowscript\").removeAttr(\"id\")};}else{ element.textContent = ' ';}",
      "text/plain": [
       "<IPython.core.display.Javascript object>"
      ]
     },
     "metadata": {},
     "output_type": "display_data"
    }
   ],
   "source": [
    "from vpython import *\n",
    "\n",
    "class Dummy():\n",
    "    pass\n",
    "\n",
    "def run_simulation(show_simulation=True, energy_graph=False, work_graph=False, ke_change_graph=False):    \n",
    "    v0 = 10.0\n",
    "    g = 9.81 \n",
    "    h = 0.0001\n",
    "    x0 = -1.4\n",
    "    alpha = 30 * (pi / 180)\n",
    "    work = 0\n",
    "    t = 0 \n",
    "    dt = 0.001 \n",
    "\n",
    "    if show_simulation:\n",
    "        simulated_ball_1 = sphere(pos = vec(x0, h, 0),\n",
    "                                mass = 0.1,\n",
    "                                angle = alpha,\n",
    "                                v = v0 * vec(cos(alpha), sin(alpha), 0),\n",
    "                                radius = .02,\n",
    "                                color = color.red,\n",
    "                                make_trail = True)\n",
    "    else:\n",
    "        simulated_ball_1 = Dummy()\n",
    "        simulated_ball_1.pos=vec(x0, h, 0)\n",
    "        simulated_ball_1.mass = 0.1\n",
    "        simulated_ball_1.v = v0 * vec(cos(alpha), sin(alpha), 0)\n",
    "\n",
    "    simulated_ball_1.p = simulated_ball_1.mass * simulated_ball_1.v\n",
    "    ke_0 = 1/2 * simulated_ball_1.mass * mag(simulated_ball_1.v) ** 2\n",
    "    \n",
    "    myrate = 500\n",
    "\n",
    "    if energy_graph:\n",
    "        gr_energy = graph(title=' Energy ', xtitle='time (s) ', ytitle = ' Joules ', background = color.white)\n",
    "        ke_curve1 = gcurve(graph = gr_energy, color = color.red)\n",
    "        ge_curve1 = gcurve(graph = gr_energy, color = color.blue)\n",
    "        me_curve1 = gcurve(graph = gr_energy, color = color.green)\n",
    "        ke_curve2 = gcurve(graph = gr_energy, color = color.orange)\n",
    "        ge_curve2 = gcurve(graph = gr_energy, color = color.cyan)\n",
    "        me_curve2 = gcurve(graph = gr_energy, color = color.yellow)\n",
    "\n",
    "    if work_graph:\n",
    "        work_graph = graph(title=' Work ', xtitle='time (s) ', ytitle = ' Joules ', background = color.white)\n",
    "        work_curve1 = gcurve(graph = work_graph, color = color.purple)\n",
    "        work_curve2 = gcurve(graph = work_graph, color = color.green)\n",
    "\n",
    "    if ke_change_graph:\n",
    "        gr_change_ke = graph(title=' Change in KE ', xtitle='time (s) ', ytitle = ' Joules ', background = color.white)\n",
    "        change_ke_curve1 = gcurve(graph = gr_change_ke, color = color.orange)\n",
    "        change_ke_curve2 = gcurve(graph = gr_change_ke, color = color.magenta)\n",
    "    \n",
    "    while simulated_ball_1.pos.y > 0:\n",
    "        rate(myrate)\n",
    "        \n",
    "        F = simulated_ball_1.mass * vec(0, -g, 0)\n",
    "        simulated_ball_1.p = simulated_ball_1.p + F * dt\n",
    "        ke = simulated_ball_1.p.mag2 / (2 * simulated_ball_1.mass)\n",
    "        ge = simulated_ball_1.mass * g * simulated_ball_1.pos.y \n",
    "        simulated_ball_1.v = simulated_ball_1.p / simulated_ball_1.mass\n",
    "        simulated_ball_1.pos = simulated_ball_1.pos + simulated_ball_1.v * dt \n",
    "\n",
    "        if energy_graph:\n",
    "            ke_curve1.plot(pos = (t, ke))\n",
    "            ge_curve1.plot(pos=(t, ge))\n",
    "            me_curve1.plot(pos=(t, ke + ge))\n",
    "            \n",
    "        work += dot(F, simulated_ball_1.p / simulated_ball_1.mass) * dt\n",
    "\n",
    "        if work_graph:\n",
    "            work_curve1.plot(pos=(t, work))\n",
    "\n",
    "        if ke_change_graph:\n",
    "            change_ke_curve1.plot(pos=(t, ke - ke_0))\n",
    "            \n",
    "        t += dt\n",
    "\n",
    "    if show_simulation:\n",
    "        simulated_ball_2 = sphere(pos=vec(x0,h,0),\n",
    "                                  mass = 0.1, radius = 0.02,\n",
    "                                  color = color.blue,\n",
    "                                  make_trail = True)\n",
    "    else:\n",
    "        simulated_ball_2 = Dummy()\n",
    "\n",
    "        simulated_ball_2.pos=vec(x0,h,0)\n",
    "        simulated_ball_2.mass = 0.1\n",
    "        simulated_ball_2.radius = 0.02\n",
    "        \n",
    "    cc = 20\n",
    "    rho = 0.01\n",
    "    wind = vec(-50, 0, 0)\n",
    "    simulated_ball_2.p = simulated_ball_2.mass * v0 * vec(cos(alpha), sin(alpha), 0)\n",
    "    ke_0 = (mag(simulated_ball_2.p)) ** 2 / (2 * simulated_ball_2.mass)\n",
    "    work = 0\n",
    "    t = 0\n",
    "    dt = 0.001\n",
    "    \n",
    "    while simulated_ball_2.pos.y >= 0:\n",
    "        rate(myrate)\n",
    "        \n",
    "        ke = (mag(simulated_ball_2.p)) ** 2 / (2 * simulated_ball_2.mass)\n",
    "        F_g = simulated_ball_2.mass * vec(0, -g, 0)\n",
    "        simulated_ball_2.v = simulated_ball_2.p / simulated_ball_2.mass\n",
    "        v_rel = simulated_ball_2.v - wind  \n",
    "        \n",
    "        F_air = -0.5 * cc * rho * pi * simulated_ball_2.radius ** 2 * (mag(v_rel) ** 2) * norm(v_rel)\n",
    "        F = F_g + F_air    \n",
    "        \n",
    "        simulated_ball_2.p += F * dt    \n",
    "        simulated_ball_2.pos = simulated_ball_2.pos + (simulated_ball_2.p / simulated_ball_2.mass) * dt    \n",
    "        \n",
    "        ke = simulated_ball_2.p.mag2 / (2 * simulated_ball_2.mass)\n",
    "        ge = simulated_ball_2.mass * g * simulated_ball_2.pos.y\n",
    "\n",
    "        if energy_graph:\n",
    "            ke_curve2.plot(pos=(t, ke))\n",
    "            ge_curve2.plot(pos=(t, ge))\n",
    "            me_curve2.plot(pos=(t, ke + ge))\n",
    "        \n",
    "        work += dot(F, simulated_ball_2.p / simulated_ball_2.mass) * dt\n",
    "        if work_graph:\n",
    "            work_curve2.plot(t, work)\n",
    "\n",
    "        if ke_change_graph:\n",
    "            change_ke_curve2.plot(pos=(t, ke - ke_0))\n",
    "            \n",
    "        t +=dt"
   ]
  },
  {
   "cell_type": "markdown",
   "id": "e4757d93-25ea-4521-8037-04a018c04b36",
   "metadata": {},
   "source": [
    "## Results and Discussion"
   ]
  },
  {
   "cell_type": "markdown",
   "id": "2c3fb9fc-7f2a-44fe-9f51-6cece65ee719",
   "metadata": {},
   "source": [
    "### Simulation Model\n",
    "![Simulation](assets/gifs/Ball_Flying_Through_Air.gif)"
   ]
  },
  {
   "cell_type": "code",
   "execution_count": 2,
   "id": "a7f24eb2-f7a7-487e-a9f6-24f771b14ab4",
   "metadata": {},
   "outputs": [
    {
     "data": {
      "text/html": [
       "<div id=\"glowscript\" class=\"glowscript\"></div>"
      ],
      "text/plain": [
       "<IPython.core.display.HTML object>"
      ]
     },
     "metadata": {},
     "output_type": "display_data"
    },
    {
     "data": {
      "application/javascript": "if (typeof Jupyter !== \"undefined\") { window.__context = { glowscript_container: $(\"#glowscript\").removeAttr(\"id\")};}else{ element.textContent = ' ';}",
      "text/plain": [
       "<IPython.core.display.Javascript object>"
      ]
     },
     "metadata": {},
     "output_type": "display_data"
    }
   ],
   "source": [
    "simulation = canvas()\n",
    "\n",
    "run_simulation()"
   ]
  },
  {
   "cell_type": "markdown",
   "id": "be2415ac-5a02-4e19-a206-2e23ed184edb",
   "metadata": {},
   "source": [
    "&emsp;&emsp;As the simulation above shows, the red ball traveled farther in comparison to the blue ball which experienced air resistance. This was to be expected since drag is incorporated into the code pertaining to the blue ball. Tthe equation for drag, $F_D = C_D A \\frac {⍴v**2} {2}$ goes on to be added to the force of gravity to find the net force. Given that the force of drag is moving in opposition to the direction of travel of the ball, it makes sense that the drag force would be negative and therefore decrease the overall net force of the ball. In turn, this decreased force goes on to decrease the ball’s velocity as well. This explains why the blue ball traveled shorter than the red ball, since the Drag Force pointing against the path of travel, caused the blue ball to travel a smaller distance than the red ball, as the Drag Force decreased its horizontal velocity, which meant it moved & traveled a smaller distance over time by the end of the simulation. To understand this, consider the formula for the change in momentum: $Δp = F * Δt$. When force, $F$, decreases, the overall value for $Δp$ also decreases by direct proportion. This also leads into the Final Momentum since $P_f - P_i = FΔt$. So as the Net Force decreases, the Final Instantaneous Momentum must decrease as well, which is reflected in the graph, showing the blue path eventually slowing down as a result of the Force causing a decrease in acceleration since $F = ma$. As a result the decrease in Force causes the system to slow down, as the acceleration is equivalent to the change in velocity by $a = \\frac {dv} {dt}$. So there’s a relationship between the Force, and in turn the velocity, which leads to a decrease in Momentum, as it depends on velocity. Taking into account that mass remains constant in the denominator portion of the equation, as momentum decreases, the overall value for velocity also decreases. Therefore, the drag acting on the blue ball reduces the ball’s force and momentum, which then decreases its velocity and causes it to hit the ground prematurely before the red ball. Additionally, another relationship that we’d like to point out is the Drag Force in relation to the difference between the ball’s current updating velocity, and the wind velocity, is that, the Drag Force is meant to decrease over time. By direct proportion, the Drag Force is dependent on this difference between the ball’s velocity, and the wind velocity, so if the ball’s velocity decreases over time in the simulation as it approaches 0 m/s, the Drag Force should subsequently decrease by the ball’s updating velocity as it gets smaller. But still, the Drag Force still has the same effect on the velocity, as it slows it down horizontally, causing it to fall short of the first red ball."
   ]
  },
  {
   "cell_type": "markdown",
   "id": "af7e241e-70bb-476e-bfb1-7255567194e2",
   "metadata": {},
   "source": [
    "### Energy Graph"
   ]
  },
  {
   "cell_type": "code",
   "execution_count": 3,
   "id": "dfab73d3-9ab5-49f5-b73e-48021a8da886",
   "metadata": {},
   "outputs": [
    {
     "data": {
      "text/html": [
       "<div id=\"glowscript\" class=\"glowscript\"></div>"
      ],
      "text/plain": [
       "<IPython.core.display.HTML object>"
      ]
     },
     "metadata": {},
     "output_type": "display_data"
    },
    {
     "data": {
      "application/javascript": "if (typeof Jupyter !== \"undefined\") { window.__context = { glowscript_container: $(\"#glowscript\").removeAttr(\"id\")};}else{ element.textContent = ' ';}",
      "text/plain": [
       "<IPython.core.display.Javascript object>"
      ]
     },
     "metadata": {},
     "output_type": "display_data"
    }
   ],
   "source": [
    "energy_graph = canvas()\n",
    "\n",
    "run_simulation(show_simulation=False, energy_graph=True)"
   ]
  },
  {
   "cell_type": "markdown",
   "id": "9a4ebfaa-d045-4b06-acdb-a071585aa5e0",
   "metadata": {},
   "source": [
    "&emsp;&emsp;The graph above depicts a total of six lines. Three of these lines (green, red, and blue) are associated with the red ball. The other three lines (yellow, orange, and cyan) are associated with the blue ball.\n",
    "\n",
    "&emsp;&emsp;To start, the blue line symbolic of the potential energy of the red ball is displayed starting at 0 joules and following an increasing pattern until it reaches the midway point where it then begins decreasing until it reaches 1 second – returning to 0 joules. To understand why this line behaves the way it is, we must look at the formula from which the plot is derived from: $PE = Mass \\times Gravity \\times Height$, or, $PE = mgh$. We already know that mass and gravity will remain constant throughout the simulation at 0.1 kg and 9.81 m/s² respectively. Therefore, the variable responsible for the potential energy’s behavior is the height since the y-position of the red ball is the only variable in this formula changing throughout the simulation. Knowing this, the graphical behavior of potential energy makes complete sense because it is following the pattern of the ball as it travels through the air. When time, t, is either 0 or 1.0 seconds, the height of the ball is at the ground, thereby making the potential energy be equal to 0 joules as is shown. During the time interval [0, 0.5], the ball is propelled upwards in the air, increasing the height and thereby causing the potential energy to increase. Meanwhile, when time, t, is equal to 0.5, the ball has reached its maximum height before gravity begins pulling it down. Thus, on the time interval [0.5, 1], the height of the ball is decreasing as it falls back down to Earth, which causes the potential energy to also decrease.\n",
    "    \n",
    "&emsp;&emsp;Meanwhile, the red line displaying the kinetic energy of the red ball starts and ends with zero joules – following a decreasing pattern until $t = 0.5$ seconds where it begins increasing. Referring back to our code, we see that $KE = \\frac {Momentum²} {2 \\times Mass}$. Noting that the denominator, $2 \\times Mass$, is constant, we can attribute the behavior of this line to momentum which lies in the numerator. To break this down even further, we know that $Momentum = Mass \\times Velocity$. Therefore, velocity, $v$, is going to be the main focus of our attention since it is this variable which changes throughout the simulation. A look back at our simulation shows us that the ball’s velocity decreases in the y-direction due to the force of gravity up until it peaks. This suggests that the momentum – and therefore the kinetic energy – is also decreasing. This relates to the red ball’s path since we see that the ball starts at a high initial velocity at a specific angle above the ground, namely 30 degrees, which causes it to move upward, and forward at a specific speed. This results in a ball that has a constant velocity in the x direction, but a changing velocity in the y direction, which we see reflected in the Kinetic Energy above. Kinetic Energy is proportional to the velocity squared by the equation, $KE = \\frac {1}{2} mv^2$, which happens to be a rewrite of the equation given above, $KE = \\frac {Momentum^2} {2 \\times Mass}$, or $KE = \\frac {P^2} {2m}$. It reflects the graph because the Kinetic Energy initially decreases which is reflected in the velocity decreasing in the first half of the simulation, since the ball is slowing down in the y-direction. Then in the second half, the Kinetic Energy is shown to increase, since once the ball peaks out, it begins to speed up in the OPPOSITE direction, as it falls to the ground faster, and faster over time. Therefore, the Kinetic Energy increases due to the increase in velocity, as it speeds up toward the ground. So our graph reflects the simulation.\n",
    "\n",
    "&emsp;&emsp;Next, let’s discuss the green line which is representative of the mechanical energy of the red ball. As is shown, mechanical energy remains constantly at 5 joules throughout the simulation. This is to be expected when taking into account that mechanical energy is equivalent to the sum of the kinetic energy (the line in red) and potential energy (the line in blue). This is because the lines for kinetic energy and potential energy are mirroring each other across the axis representative of the sum of these two lines where $y = 2.5$ J. This shows that while the Potential Energy is increasing, the Kinetic Energy is decreasing at the same rate just in the opposite direction. So when you sum two lines that have equal but opposite slopes, they should always yield a constant. This is made clear when given that the line for kinetic energy starts at 5 while that for potential energy starts at 0. Moreover, they share an inverse relationship, with one line increasing when the other is decreasing and vice versa. Consequently, this relationship leads to the formation of our constant green line since their inverse relationship causes the sum to be constant. Take for instance when time, $t$, is equal to 0 and 1.0 seconds. At these points in time, the potential energy is 0 joules while the kinetic energy is at 5 joules. Similarly, at the halfway mark when $t = 0.5$ seconds, the potential energy is approximately equal to 1.25 joules while the kinetic energy is about 3.75. In all three of these cases, the combined sum of the potential and kinetic energy is equal to 5 joules.\n",
    "\n",
    "&emsp;&emsp;Moving on to the blue ball, we see that the cyan line for the potential energy follows an extremely close pattern to that previously described for the red ball. As stated previously, the variable responsible for this line’s behavior is height given that it is the only such variable in the formula for potential energy that changes over the course of the simulation. As such, it is expected that the potential energy will increase with height initially before decreasing as the ball plummets to the ground (as had occurred) since $PE = mgh$. Their graphs should be relatively the same since the wind implemented affects only the x-direction of the ball. Thus, we shouldn’t expect much of an impact with regard to the y-direction of the ball as it falls.\n",
    "\n",
    "&emsp;&emsp;Additionally, there is the orange line for the blue ball’s kinetic energy which is displayed starting at 5 joules, decreasing, and then increasing near the end of the simulation where it ends at about 2.25 joules. This is to be expected since velocity is decreasing as the ball travels upwards and increasing as it travels downwards. This is because the pull of gravity in the y-direction along with the drag from the wind in the x-direction reduce the velocity of the blue ball. This is important to note since when velocity increases, so does momentum via the formula: $p = mv$. And when momentum increases, so does kinetic energy thanks to the fact that momentum is in the numerator half of the equation for kinetic energy on line 66. With this in mind, we can properly explain the significance of the graph. First of all, the fact that the kinetic energy for the blue ball is decreasing most of the time interval implies that the ball is experiencing a decrease in momentum and velocity. This makes sense since the aforementioned forces related to gravity and drag will decrease the initial velocity. Moreover, the fact that the kinetic energy is increasing near the end of the simulation implies that the velocity and momentum of the blue ball is increasing. This is to be anticipated given that the ball in free fall is succumbing to the effects of gravity and beginning to accelerate towards the Earth, thereby increasing the velocity of the ball by  9.81 m/s².\n",
    "\n",
    "&emsp;&emsp;Lastly, the yellow line representative of the mechanical energy of the blue ball is shown decreasing from 5 joules to approximately 2.25 joules after 1.0 seconds in a linear fashion. First, it’s important to establish that mechanical energy is the sum of potential energy and kinetic energy. Let’s take a look at the first plot of the line. At this point in time, the kinetic energy is 5 joules whilst the potential energy is 0. As expected, the sum comes out to be 5 joules and the first plot for mechanical energy is also worth 5 joules. The same situation applies at the end of the simulation when the kinetic energy is at 2.25 joules whilst the potential energy is at 0 joules. In this case, the sum is 2.25 joules and the mechanical energy is designated as such on the graph at this point. In another case referring to when $t = 0.5$ seconds, we see that the kinetic energy is approximately 2.25 joules while the potential energy is at about 1.25 joules. The sum is 3.5 joules – the same value at which the yellow line is plotted over. At this point, it may become apparent that the kinetic energy and the potential energy are reflections of one another as was the case with the red ball. However, unlike with the blue ball which reflects across a horizontal, constant line, the red ball reflects across a constantly changing diagonal line. If you were to shift the yellow line between the orange and cyan lines, you would see that the lines are a perfect reflection of one another. This is another example of the lines sharing an inverse relationship, with the increasing of one line implying the decreasing of the other. Thus, when added together, the lines add up in such a way as to form a decreasing linear line."
   ]
  },
  {
   "cell_type": "markdown",
   "id": "cc8c734b-8321-4b3b-b625-7eb1c97b42e3",
   "metadata": {},
   "source": [
    "### Work Graph"
   ]
  },
  {
   "cell_type": "code",
   "execution_count": 4,
   "id": "caea0a1b-5dc0-41c6-b50e-cef02604f75f",
   "metadata": {},
   "outputs": [
    {
     "data": {
      "text/html": [
       "<div id=\"glowscript\" class=\"glowscript\"></div>"
      ],
      "text/plain": [
       "<IPython.core.display.HTML object>"
      ]
     },
     "metadata": {},
     "output_type": "display_data"
    },
    {
     "data": {
      "application/javascript": "if (typeof Jupyter !== \"undefined\") { window.__context = { glowscript_container: $(\"#glowscript\").removeAttr(\"id\")};}else{ element.textContent = ' ';}",
      "text/plain": [
       "<IPython.core.display.Javascript object>"
      ]
     },
     "metadata": {},
     "output_type": "display_data"
    }
   ],
   "source": [
    "work_graph = canvas()\n",
    "\n",
    "run_simulation(show_simulation=False, work_graph=True)"
   ]
  },
  {
   "cell_type": "markdown",
   "id": "43ced4c2-7b0d-493a-8615-85863aed80f3",
   "metadata": {},
   "source": [
    "&emsp;&emsp;The graph shown above displays the two lines pertaining to work for the red ball (purple) and blue ball (green) respectively. Consider that work is represented by the formula: $Work = Force \\times Displacement \\times cos(𝛳)$. We know that the force vector will always be pointing downwards for the purple line (which experiences no air resistance) while the displacement vector will always be pointing in the direction from the initial to the final point. Considering that the force vector is constantly pointing down, we turn our focus onto the displacement vector. Initially, the red ball is moving upwards in the air at an acute angle before flattening out to a straight line and finally forming a diagonal angle downwards as the ball falls down to the ground.\n",
    "\n",
    "&emsp;&emsp;As the balls increase in height, the angle formed between the force and displacement vectors is obtuse (greater than 90°). With this in mind, this means that the angle formed would fall in the second quadrant of a unit circle. This is worth noting since the cosine of any angle that is between 90° and 270° is negative. Thus, the overall value will be negative. As a result, when we add onto the previous values for work as the ball increases in height, the negative values are being added together. This is due to the fact that at the first half of the ball’s flight, the ball is moving upward, while the Force of Gravity is facing downwards, so the Force of Gravity is doing negative work, and we see that in the graph. In turn, this causes the decreasing behavior that we initially see for both the purple and green lines.\n",
    "\n",
    "&emsp;&emsp;Meanwhile, as the balls gradually slow down to a halt, both lines level off. This is attributed to the 90° angle formed between the force and displacement vectors. As our angle 𝜃 approaches 90°, the cos(𝜃) approaches 0. In turn, this causes the overall value output for work to decrease. Thus, as we add on to the previous values for work, less and less is being added until 𝜃  angle finally equals 90°. This causes the lines for work in both simulations to get flatter until the pull of gravity causes the balls to fall downward.\n",
    "\n",
    "&emsp;&emsp;Lastly, when the balls decrease in height near the end of the simulation, an acute angle (less than 90°) is formed between the force and displacement vectors. Because of this, the values outputted by the work formula will be positive. Consider that the cosine of an angle in the 1st Quadrant of a unit circle (between 0° and 90°) is always positive. Thus, as we add the positive work values generated to our previous values, the work of both balls is going to increase over time.\n",
    "\n",
    "&emsp;&emsp;Unlike the purple line representative of the red ball, the green line (symbolic of the blue ball experiencing air resistance) is portrayed taking a dipping to a greater depth. This makes sense given that the drag force is always pointing the direction opposite that of the displacement. Thus, the angle 𝜃 formed between the force and horizontal displacement will be constantly 180°, if we only focus on the horizontal (x) path of travel with respect to the Force. As a result, the cos(𝜃) will always be equivalent -1. So, for the blue ball, we know that there is air resistance, along with the gravitational force. This means the Net Force will be pointing in the negative direction horizontally due to the drag force, and also in the negative direction vertically due to the gravitational force. This results in more negative Work being done when compared to the first (red) ball, since the ball is traveling forwards, and there is a Drag Force acting against the system (forming a 180° angle between the horizontal [x] path of travel exclusively), on top of the same Gravitational Force, which is pushing downward on the ball as a result. These two combined Forces, result in the Net Force, being negative in the horizontal, and vertical directions. And since the ball is traveling forward, and upward for the first half, and downward for the second half, the Work being done decreases for longer due to the additional drag force. So, it’s doing negative work for longer horizontally, and then it’s doing negative work for the first half vertically, and positive work for the second half vertically when it falls to the ground. So, the Work never returns to zero, but starts increasing eventually since Gravity eventually does do positive Work, which means that the Gravitational Force caused an excess of Work in relation to the Drag Force). And that’s what we see in the graph."
   ]
  },
  {
   "cell_type": "markdown",
   "id": "4b64bf3e-47d2-4e94-9fa0-98775f12a37c",
   "metadata": {},
   "source": [
    "### Change in Kinetic Energy Graph"
   ]
  },
  {
   "cell_type": "code",
   "execution_count": 5,
   "id": "30bbca83-6941-4ddb-9bfa-103d89e0da96",
   "metadata": {},
   "outputs": [
    {
     "data": {
      "text/html": [
       "<div id=\"glowscript\" class=\"glowscript\"></div>"
      ],
      "text/plain": [
       "<IPython.core.display.HTML object>"
      ]
     },
     "metadata": {},
     "output_type": "display_data"
    },
    {
     "data": {
      "application/javascript": "if (typeof Jupyter !== \"undefined\") { window.__context = { glowscript_container: $(\"#glowscript\").removeAttr(\"id\")};}else{ element.textContent = ' ';}",
      "text/plain": [
       "<IPython.core.display.Javascript object>"
      ]
     },
     "metadata": {},
     "output_type": "display_data"
    }
   ],
   "source": [
    "change_ke_graph = canvas()\n",
    "\n",
    "run_simulation(show_simulation=False, ke_change_graph=True)"
   ]
  },
  {
   "cell_type": "markdown",
   "id": "efd2b4a0-1f46-4270-b5fb-c5fd77cd442f",
   "metadata": {},
   "source": [
    "&emsp;&emsp;The change in Kinetic Energy is given by the equation $ΔKE = KE_f - KE_i$. Since the initial Kinetic Energy is a constant, and is calculated in the very beginning, we can focus on the final Kinetic Energy for the relationships. So, $ΔKE = \\frac{1}{2} mv_f^2 - KE_i$. The Change in Kinetic Energy is going to depend on the final calculated velocity. This is because the Change in Kinetic Energy is directly proportional to the final velocity squared.\n",
    "This is reflected in our simulation, and achieves what we expect due to the fact that the final velocity starts out high, and then gradually decreases as the ball travels upward against the pull of gravity for the first simulation. This is shown by the orange line. Then, as the ball peaks out at around 0.5 seconds and loses the power struggle against the force of gravity, the velocity – and therefore the Kinetic Energy – begins to increase, and this is shown when the ball starts to fall to the ground faster, and faster.\n",
    "\n",
    "&emsp;&emsp;The magenta line associated with the second simulation which implements air resistance takes a more noticeable dip in kinetic energy and reaches its minimum value later than that of the first simulation. This makes sense given that the second ball was slowed down by the air resistance and made a (very small) slightly faster plunge as a result after reaching its peak in comparison to the first ball. The incorporation of the wind further decreased the velocity of the ball in the x-direction, thereby decreasing the values of the magenta line to be lower than that of the orange line. In turn, the resistance of the air in the x-direction further reduced the velocity in the x-direction as time continued. Additionally, the drag force somewhat decreased as time went on due to the fact that the velocity of the ball was decreasing. And by direct proportion, if the velocity of the ball decreased, the drag force would decrease. It is for this reason why the velocity is changing at a more consistent rate in the y-direction for the first simulation than in the second. Consequently, the resistance acting on both the x and y-directions served to decrease the time it took for the blue ball to reach the ground. This is because the Drag Force seems to be slightly impacting the y direction, though it is indeed negligible within the calculation itself."
   ]
  },
  {
   "cell_type": "markdown",
   "id": "a3296946-3149-458a-9b78-6ab220e34614",
   "metadata": {},
   "source": [
    "## Conclusion\n",
    "&emsp;&emsp;In conclusion, we were asked to simulate two balls, one with and one without air resistance, and graphing the kinetic, potential, and mechanical energy associated with each ball. To obtain the simulations that we did, we applied a wind vector and force of drag into the while loop associated with the blue ball whilst leaving the red ball without such properties. We found that the incorporation of wind slowed down the velocity of the ball and resulted in a shorter distance to fall to the ground, but didn’t cause the ball to make contact with the ground any faster than if it were to not have drag force on it at all.\n",
    "\n",
    "### What We Learned\n",
    "&emsp;Thanks to this lab we were able to better understand a number of relationships pertaining to physics. To start off, we learned that as height increased, the potential energy increased along with it; as height decreased, the potential energy decreased. Additionally, we now understand as velocity and momentum increase, kinetic energy also increases; when they decrease, kinetic energy also decreases. Furthermore, we learned that mechanical energy is always in the space directly in between these two lines in a manner much like a mirror due to being a sum of the lines for kinetic and potential energy. Moreover, we were able to grasp that the higher the air resistance, the slower the velocity of the projectile (in the x-direction) will be, the sharper and more abrupt the turn made by the object as it falls downward, and the shorter the distance traveled by the object. Additionally, it’s important to note that we also learned that the Drag Force is directly dependent on the velocity and motion of the ball. As shown by the Drag Force equation, if we increase the current velocity of the ball, the Drag Force subsequently increases, and if the velocity decreases over time, it would decrease as a result by direct proportion. It mainly impacts movement in the x, as shown by the second ball slowing down quicker, and traveling a smaller distance over time. However, it seems that although negligible, the Drag Force does have a very minimal impact on the y-direction, as shown in our simulation by it hitting the ground slightly sooner than the first ball, but not by much. Not to mention, as the velocity of a projectile decreases as it is slowed down by gravity, the change in kinetic energy decreases. Then, as the velocity of the object increases as it falls down, the change in kinetic energy increases. On top of that, when the angle between force and displacement in the x, and y axis is obtuse (between 90° and 270°), the work output is negative and results in the graph decreasing. On the other hand, we discovered that when an acute angle is formed between these two vectors, the work value output is positive and causes the work graph to increase. Lastly, we also learned that we are able to apply the Work equation exclusively to the x, and y directions respectively. We understood that we could solely focus on the displacement in the x, and y exclusively to understand how Work is being done as a result."
   ]
  }
 ],
 "metadata": {
  "kernelspec": {
   "display_name": "Python 3 (ipykernel)",
   "language": "python",
   "name": "python3"
  },
  "language_info": {
   "codemirror_mode": {
    "name": "ipython",
    "version": 3
   },
   "file_extension": ".py",
   "mimetype": "text/x-python",
   "name": "python",
   "nbconvert_exporter": "python",
   "pygments_lexer": "ipython3",
   "version": "3.12.3"
  }
 },
 "nbformat": 4,
 "nbformat_minor": 5
}
